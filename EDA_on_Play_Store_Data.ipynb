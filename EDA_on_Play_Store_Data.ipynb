{
  "nbformat": 4,
  "nbformat_minor": 0,
  "metadata": {
    "colab": {
      "name": "EDA on Play Store Data.ipynb",
      "provenance": [],
      "collapsed_sections": [],
      "mount_file_id": "1RruPdL85w3dJZ_5BH8oppIQq2eDgTrCi",
      "authorship_tag": "ABX9TyMkx9w5okvV0d0uTcRrnK7a",
      "include_colab_link": true
    },
    "kernelspec": {
      "name": "python3",
      "display_name": "Python 3"
    },
    "language_info": {
      "name": "python"
    }
  },
  "cells": [
    {
      "cell_type": "markdown",
      "metadata": {
        "id": "view-in-github",
        "colab_type": "text"
      },
      "source": [
        "<a href=\"https://colab.research.google.com/github/ImSumitJadhav/EDA-on-Play-Store-Data/blob/main/EDA_on_Play_Store_Data.ipynb\" target=\"_parent\"><img src=\"https://colab.research.google.com/assets/colab-badge.svg\" alt=\"Open In Colab\"/></a>"
      ]
    },
    {
      "cell_type": "markdown",
      "source": [
        "# **Name: Sumit Vasant Jadhav**"
      ],
      "metadata": {
        "id": "-25rtX9qPJvV"
      }
    },
    {
      "cell_type": "markdown",
      "source": [
        "# <font color='red'> **Project Name: EDA on Play Store data**"
      ],
      "metadata": {
        "id": "zhj4-lNqM6Ei"
      }
    },
    {
      "cell_type": "markdown",
      "source": [
        "\n",
        "\n",
        "\n",
        "\n",
        "\n",
        "There are about 2.8 million applications uploaded on playstore.By google's  survey almost 3739 applications get released on it daily.Some of   them we used to analysis.Play store become the very popular orgnisation related to Android version because of their wide range of application categories.These applications provide lots of data that can be analyzed and help to Enterpreneurs and a person who launch their own application.They can use this analysis to launch application relative to trending category and understand reviews of application,overcome burgs and provide a usefull and complete application.\n",
        "\n",
        "\n",
        "\n",
        "\n",
        "\n",
        "\n",
        "\n",
        "The dataset is around 10800 rows and 13 columns in Dataframe1 and around 64000 row and 5 columns in Dataframe2, which contains numerical values,text,date values and mix type of values.\n",
        "\n",
        "\n",
        "\n",
        "---\n",
        "\n",
        "\n",
        "# **Keys-**\n",
        "\n",
        "\n",
        "\n",
        "\n",
        "\n",
        "\n",
        "*   Data Summery.\n",
        "*   Data Cleaning.\n",
        "\n",
        "*   Visualization to find out behavior of data.\n",
        "\n",
        "\n",
        "*   Other visualization by various features.\n",
        "*   Conclusion.\n",
        "\n",
        "\n",
        "\n",
        "\n",
        "\n",
        "\n",
        "\n",
        "---\n",
        "\n",
        "\n",
        "\n",
        "\n",
        "\n",
        "\n",
        "\n",
        "\n",
        "\n",
        "\n"
      ],
      "metadata": {
        "id": "sJeJslUQWypT"
      }
    },
    {
      "cell_type": "markdown",
      "source": [
        "![Google_Play_Store_badge_EN.svg.png](data:image/png;base64,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)"
      ],
      "metadata": {
        "id": "sbV_k6sGsrZC"
      }
    },
    {
      "cell_type": "markdown",
      "source": [
        "#<font color='red'>**Let's Go**"
      ],
      "metadata": {
        "id": "wgPFkNdhf0sB"
      }
    },
    {
      "cell_type": "code",
      "source": [
        "#Importing various libraries\n",
        "import pandas as pd\n",
        "import numpy as np\n",
        "import matplotlib.pyplot as plt\n",
        "import seaborn as sns\n",
        "import warnings\n",
        "warnings.filterwarnings('ignore')\n",
        "\n",
        "#import drive\n",
        "from google.colab import drive\n",
        "drive.mount('/content/MyDrive')"
      ],
      "metadata": {
        "id": "UoeTzOg_oCTR",
        "colab": {
          "base_uri": "https://localhost:8080/"
        },
        "outputId": "256aa663-3540-4a5b-ecad-ca1774a8f28c"
      },
      "execution_count": null,
      "outputs": [
        {
          "output_type": "stream",
          "name": "stdout",
          "text": [
            "Mounted at /content/MyDrive\n"
          ]
        }
      ]
    },
    {
      "cell_type": "markdown",
      "source": [
        "# **Dataset 1**"
      ],
      "metadata": {
        "id": "4irPkdEqLnR-"
      }
    },
    {
      "cell_type": "code",
      "source": [
        "#importing dataset 1 from drive\n",
        "df1=pd.read_csv('/content/MyDrive/MyDrive/project 1/Play Store Data.csv')"
      ],
      "metadata": {
        "id": "EiV8kJ19-emM"
      },
      "execution_count": null,
      "outputs": []
    },
    {
      "cell_type": "code",
      "source": [
        "#to show top 5 rows\n",
        "df1.head()    "
      ],
      "metadata": {
        "id": "fOUuzEbj_TAJ",
        "colab": {
          "base_uri": "https://localhost:8080/",
          "height": 354
        },
        "outputId": "fbaa79e8-b171-4f95-c952-92ef47086c43"
      },
      "execution_count": null,
      "outputs": [
        {
          "output_type": "execute_result",
          "data": {
            "text/plain": [
              "                                                 App        Category  Rating  \\\n",
              "0     Photo Editor & Candy Camera & Grid & ScrapBook  ART_AND_DESIGN     4.1   \n",
              "1                                Coloring book moana  ART_AND_DESIGN     3.9   \n",
              "2  U Launcher Lite – FREE Live Cool Themes, Hide ...  ART_AND_DESIGN     4.7   \n",
              "3                              Sketch - Draw & Paint  ART_AND_DESIGN     4.5   \n",
              "4              Pixel Draw - Number Art Coloring Book  ART_AND_DESIGN     4.3   \n",
              "\n",
              "  Reviews  Size     Installs  Type Price Content Rating  \\\n",
              "0     159   19M      10,000+  Free     0       Everyone   \n",
              "1     967   14M     500,000+  Free     0       Everyone   \n",
              "2   87510  8.7M   5,000,000+  Free     0       Everyone   \n",
              "3  215644   25M  50,000,000+  Free     0           Teen   \n",
              "4     967  2.8M     100,000+  Free     0       Everyone   \n",
              "\n",
              "                      Genres      Last Updated         Current Ver  \\\n",
              "0               Art & Design   January 7, 2018               1.0.0   \n",
              "1  Art & Design;Pretend Play  January 15, 2018               2.0.0   \n",
              "2               Art & Design    August 1, 2018               1.2.4   \n",
              "3               Art & Design      June 8, 2018  Varies with device   \n",
              "4    Art & Design;Creativity     June 20, 2018                 1.1   \n",
              "\n",
              "    Android Ver  \n",
              "0  4.0.3 and up  \n",
              "1  4.0.3 and up  \n",
              "2  4.0.3 and up  \n",
              "3    4.2 and up  \n",
              "4    4.4 and up  "
            ],
            "text/html": [
              "\n",
              "  <div id=\"df-d8423ffd-1743-40f7-b490-aca098932dbd\">\n",
              "    <div class=\"colab-df-container\">\n",
              "      <div>\n",
              "<style scoped>\n",
              "    .dataframe tbody tr th:only-of-type {\n",
              "        vertical-align: middle;\n",
              "    }\n",
              "\n",
              "    .dataframe tbody tr th {\n",
              "        vertical-align: top;\n",
              "    }\n",
              "\n",
              "    .dataframe thead th {\n",
              "        text-align: right;\n",
              "    }\n",
              "</style>\n",
              "<table border=\"1\" class=\"dataframe\">\n",
              "  <thead>\n",
              "    <tr style=\"text-align: right;\">\n",
              "      <th></th>\n",
              "      <th>App</th>\n",
              "      <th>Category</th>\n",
              "      <th>Rating</th>\n",
              "      <th>Reviews</th>\n",
              "      <th>Size</th>\n",
              "      <th>Installs</th>\n",
              "      <th>Type</th>\n",
              "      <th>Price</th>\n",
              "      <th>Content Rating</th>\n",
              "      <th>Genres</th>\n",
              "      <th>Last Updated</th>\n",
              "      <th>Current Ver</th>\n",
              "      <th>Android Ver</th>\n",
              "    </tr>\n",
              "  </thead>\n",
              "  <tbody>\n",
              "    <tr>\n",
              "      <th>0</th>\n",
              "      <td>Photo Editor &amp; Candy Camera &amp; Grid &amp; ScrapBook</td>\n",
              "      <td>ART_AND_DESIGN</td>\n",
              "      <td>4.1</td>\n",
              "      <td>159</td>\n",
              "      <td>19M</td>\n",
              "      <td>10,000+</td>\n",
              "      <td>Free</td>\n",
              "      <td>0</td>\n",
              "      <td>Everyone</td>\n",
              "      <td>Art &amp; Design</td>\n",
              "      <td>January 7, 2018</td>\n",
              "      <td>1.0.0</td>\n",
              "      <td>4.0.3 and up</td>\n",
              "    </tr>\n",
              "    <tr>\n",
              "      <th>1</th>\n",
              "      <td>Coloring book moana</td>\n",
              "      <td>ART_AND_DESIGN</td>\n",
              "      <td>3.9</td>\n",
              "      <td>967</td>\n",
              "      <td>14M</td>\n",
              "      <td>500,000+</td>\n",
              "      <td>Free</td>\n",
              "      <td>0</td>\n",
              "      <td>Everyone</td>\n",
              "      <td>Art &amp; Design;Pretend Play</td>\n",
              "      <td>January 15, 2018</td>\n",
              "      <td>2.0.0</td>\n",
              "      <td>4.0.3 and up</td>\n",
              "    </tr>\n",
              "    <tr>\n",
              "      <th>2</th>\n",
              "      <td>U Launcher Lite – FREE Live Cool Themes, Hide ...</td>\n",
              "      <td>ART_AND_DESIGN</td>\n",
              "      <td>4.7</td>\n",
              "      <td>87510</td>\n",
              "      <td>8.7M</td>\n",
              "      <td>5,000,000+</td>\n",
              "      <td>Free</td>\n",
              "      <td>0</td>\n",
              "      <td>Everyone</td>\n",
              "      <td>Art &amp; Design</td>\n",
              "      <td>August 1, 2018</td>\n",
              "      <td>1.2.4</td>\n",
              "      <td>4.0.3 and up</td>\n",
              "    </tr>\n",
              "    <tr>\n",
              "      <th>3</th>\n",
              "      <td>Sketch - Draw &amp; Paint</td>\n",
              "      <td>ART_AND_DESIGN</td>\n",
              "      <td>4.5</td>\n",
              "      <td>215644</td>\n",
              "      <td>25M</td>\n",
              "      <td>50,000,000+</td>\n",
              "      <td>Free</td>\n",
              "      <td>0</td>\n",
              "      <td>Teen</td>\n",
              "      <td>Art &amp; Design</td>\n",
              "      <td>June 8, 2018</td>\n",
              "      <td>Varies with device</td>\n",
              "      <td>4.2 and up</td>\n",
              "    </tr>\n",
              "    <tr>\n",
              "      <th>4</th>\n",
              "      <td>Pixel Draw - Number Art Coloring Book</td>\n",
              "      <td>ART_AND_DESIGN</td>\n",
              "      <td>4.3</td>\n",
              "      <td>967</td>\n",
              "      <td>2.8M</td>\n",
              "      <td>100,000+</td>\n",
              "      <td>Free</td>\n",
              "      <td>0</td>\n",
              "      <td>Everyone</td>\n",
              "      <td>Art &amp; Design;Creativity</td>\n",
              "      <td>June 20, 2018</td>\n",
              "      <td>1.1</td>\n",
              "      <td>4.4 and up</td>\n",
              "    </tr>\n",
              "  </tbody>\n",
              "</table>\n",
              "</div>\n",
              "      <button class=\"colab-df-convert\" onclick=\"convertToInteractive('df-d8423ffd-1743-40f7-b490-aca098932dbd')\"\n",
              "              title=\"Convert this dataframe to an interactive table.\"\n",
              "              style=\"display:none;\">\n",
              "        \n",
              "  <svg xmlns=\"http://www.w3.org/2000/svg\" height=\"24px\"viewBox=\"0 0 24 24\"\n",
              "       width=\"24px\">\n",
              "    <path d=\"M0 0h24v24H0V0z\" fill=\"none\"/>\n",
              "    <path d=\"M18.56 5.44l.94 2.06.94-2.06 2.06-.94-2.06-.94-.94-2.06-.94 2.06-2.06.94zm-11 1L8.5 8.5l.94-2.06 2.06-.94-2.06-.94L8.5 2.5l-.94 2.06-2.06.94zm10 10l.94 2.06.94-2.06 2.06-.94-2.06-.94-.94-2.06-.94 2.06-2.06.94z\"/><path d=\"M17.41 7.96l-1.37-1.37c-.4-.4-.92-.59-1.43-.59-.52 0-1.04.2-1.43.59L10.3 9.45l-7.72 7.72c-.78.78-.78 2.05 0 2.83L4 21.41c.39.39.9.59 1.41.59.51 0 1.02-.2 1.41-.59l7.78-7.78 2.81-2.81c.8-.78.8-2.07 0-2.86zM5.41 20L4 18.59l7.72-7.72 1.47 1.35L5.41 20z\"/>\n",
              "  </svg>\n",
              "      </button>\n",
              "      \n",
              "  <style>\n",
              "    .colab-df-container {\n",
              "      display:flex;\n",
              "      flex-wrap:wrap;\n",
              "      gap: 12px;\n",
              "    }\n",
              "\n",
              "    .colab-df-convert {\n",
              "      background-color: #E8F0FE;\n",
              "      border: none;\n",
              "      border-radius: 50%;\n",
              "      cursor: pointer;\n",
              "      display: none;\n",
              "      fill: #1967D2;\n",
              "      height: 32px;\n",
              "      padding: 0 0 0 0;\n",
              "      width: 32px;\n",
              "    }\n",
              "\n",
              "    .colab-df-convert:hover {\n",
              "      background-color: #E2EBFA;\n",
              "      box-shadow: 0px 1px 2px rgba(60, 64, 67, 0.3), 0px 1px 3px 1px rgba(60, 64, 67, 0.15);\n",
              "      fill: #174EA6;\n",
              "    }\n",
              "\n",
              "    [theme=dark] .colab-df-convert {\n",
              "      background-color: #3B4455;\n",
              "      fill: #D2E3FC;\n",
              "    }\n",
              "\n",
              "    [theme=dark] .colab-df-convert:hover {\n",
              "      background-color: #434B5C;\n",
              "      box-shadow: 0px 1px 3px 1px rgba(0, 0, 0, 0.15);\n",
              "      filter: drop-shadow(0px 1px 2px rgba(0, 0, 0, 0.3));\n",
              "      fill: #FFFFFF;\n",
              "    }\n",
              "  </style>\n",
              "\n",
              "      <script>\n",
              "        const buttonEl =\n",
              "          document.querySelector('#df-d8423ffd-1743-40f7-b490-aca098932dbd button.colab-df-convert');\n",
              "        buttonEl.style.display =\n",
              "          google.colab.kernel.accessAllowed ? 'block' : 'none';\n",
              "\n",
              "        async function convertToInteractive(key) {\n",
              "          const element = document.querySelector('#df-d8423ffd-1743-40f7-b490-aca098932dbd');\n",
              "          const dataTable =\n",
              "            await google.colab.kernel.invokeFunction('convertToInteractive',\n",
              "                                                     [key], {});\n",
              "          if (!dataTable) return;\n",
              "\n",
              "          const docLinkHtml = 'Like what you see? Visit the ' +\n",
              "            '<a target=\"_blank\" href=https://colab.research.google.com/notebooks/data_table.ipynb>data table notebook</a>'\n",
              "            + ' to learn more about interactive tables.';\n",
              "          element.innerHTML = '';\n",
              "          dataTable['output_type'] = 'display_data';\n",
              "          await google.colab.output.renderOutput(dataTable, element);\n",
              "          const docLink = document.createElement('div');\n",
              "          docLink.innerHTML = docLinkHtml;\n",
              "          element.appendChild(docLink);\n",
              "        }\n",
              "      </script>\n",
              "    </div>\n",
              "  </div>\n",
              "  "
            ]
          },
          "metadata": {},
          "execution_count": 3
        }
      ]
    },
    {
      "cell_type": "code",
      "source": [
        "#to show bottom 5 rows\n",
        "df1.tail()      "
      ],
      "metadata": {
        "id": "lsbkDzo9p_5w",
        "colab": {
          "base_uri": "https://localhost:8080/",
          "height": 354
        },
        "outputId": "df22db85-77c8-4e50-fbe9-09baf1c75a71"
      },
      "execution_count": null,
      "outputs": [
        {
          "output_type": "execute_result",
          "data": {
            "text/plain": [
              "                                                 App             Category  \\\n",
              "10836                               Sya9a Maroc - FR               FAMILY   \n",
              "10837               Fr. Mike Schmitz Audio Teachings               FAMILY   \n",
              "10838                         Parkinson Exercices FR              MEDICAL   \n",
              "10839                  The SCP Foundation DB fr nn5n  BOOKS_AND_REFERENCE   \n",
              "10840  iHoroscope - 2018 Daily Horoscope & Astrology            LIFESTYLE   \n",
              "\n",
              "       Rating Reviews                Size     Installs  Type Price  \\\n",
              "10836     4.5      38                 53M       5,000+  Free     0   \n",
              "10837     5.0       4                3.6M         100+  Free     0   \n",
              "10838     NaN       3                9.5M       1,000+  Free     0   \n",
              "10839     4.5     114  Varies with device       1,000+  Free     0   \n",
              "10840     4.5  398307                 19M  10,000,000+  Free     0   \n",
              "\n",
              "      Content Rating             Genres      Last Updated         Current Ver  \\\n",
              "10836       Everyone          Education     July 25, 2017                1.48   \n",
              "10837       Everyone          Education      July 6, 2018                 1.0   \n",
              "10838       Everyone            Medical  January 20, 2017                 1.0   \n",
              "10839     Mature 17+  Books & Reference  January 19, 2015  Varies with device   \n",
              "10840       Everyone          Lifestyle     July 25, 2018  Varies with device   \n",
              "\n",
              "              Android Ver  \n",
              "10836          4.1 and up  \n",
              "10837          4.1 and up  \n",
              "10838          2.2 and up  \n",
              "10839  Varies with device  \n",
              "10840  Varies with device  "
            ],
            "text/html": [
              "\n",
              "  <div id=\"df-a48e594d-67f2-4022-bdd4-1917519e4f17\">\n",
              "    <div class=\"colab-df-container\">\n",
              "      <div>\n",
              "<style scoped>\n",
              "    .dataframe tbody tr th:only-of-type {\n",
              "        vertical-align: middle;\n",
              "    }\n",
              "\n",
              "    .dataframe tbody tr th {\n",
              "        vertical-align: top;\n",
              "    }\n",
              "\n",
              "    .dataframe thead th {\n",
              "        text-align: right;\n",
              "    }\n",
              "</style>\n",
              "<table border=\"1\" class=\"dataframe\">\n",
              "  <thead>\n",
              "    <tr style=\"text-align: right;\">\n",
              "      <th></th>\n",
              "      <th>App</th>\n",
              "      <th>Category</th>\n",
              "      <th>Rating</th>\n",
              "      <th>Reviews</th>\n",
              "      <th>Size</th>\n",
              "      <th>Installs</th>\n",
              "      <th>Type</th>\n",
              "      <th>Price</th>\n",
              "      <th>Content Rating</th>\n",
              "      <th>Genres</th>\n",
              "      <th>Last Updated</th>\n",
              "      <th>Current Ver</th>\n",
              "      <th>Android Ver</th>\n",
              "    </tr>\n",
              "  </thead>\n",
              "  <tbody>\n",
              "    <tr>\n",
              "      <th>10836</th>\n",
              "      <td>Sya9a Maroc - FR</td>\n",
              "      <td>FAMILY</td>\n",
              "      <td>4.5</td>\n",
              "      <td>38</td>\n",
              "      <td>53M</td>\n",
              "      <td>5,000+</td>\n",
              "      <td>Free</td>\n",
              "      <td>0</td>\n",
              "      <td>Everyone</td>\n",
              "      <td>Education</td>\n",
              "      <td>July 25, 2017</td>\n",
              "      <td>1.48</td>\n",
              "      <td>4.1 and up</td>\n",
              "    </tr>\n",
              "    <tr>\n",
              "      <th>10837</th>\n",
              "      <td>Fr. Mike Schmitz Audio Teachings</td>\n",
              "      <td>FAMILY</td>\n",
              "      <td>5.0</td>\n",
              "      <td>4</td>\n",
              "      <td>3.6M</td>\n",
              "      <td>100+</td>\n",
              "      <td>Free</td>\n",
              "      <td>0</td>\n",
              "      <td>Everyone</td>\n",
              "      <td>Education</td>\n",
              "      <td>July 6, 2018</td>\n",
              "      <td>1.0</td>\n",
              "      <td>4.1 and up</td>\n",
              "    </tr>\n",
              "    <tr>\n",
              "      <th>10838</th>\n",
              "      <td>Parkinson Exercices FR</td>\n",
              "      <td>MEDICAL</td>\n",
              "      <td>NaN</td>\n",
              "      <td>3</td>\n",
              "      <td>9.5M</td>\n",
              "      <td>1,000+</td>\n",
              "      <td>Free</td>\n",
              "      <td>0</td>\n",
              "      <td>Everyone</td>\n",
              "      <td>Medical</td>\n",
              "      <td>January 20, 2017</td>\n",
              "      <td>1.0</td>\n",
              "      <td>2.2 and up</td>\n",
              "    </tr>\n",
              "    <tr>\n",
              "      <th>10839</th>\n",
              "      <td>The SCP Foundation DB fr nn5n</td>\n",
              "      <td>BOOKS_AND_REFERENCE</td>\n",
              "      <td>4.5</td>\n",
              "      <td>114</td>\n",
              "      <td>Varies with device</td>\n",
              "      <td>1,000+</td>\n",
              "      <td>Free</td>\n",
              "      <td>0</td>\n",
              "      <td>Mature 17+</td>\n",
              "      <td>Books &amp; Reference</td>\n",
              "      <td>January 19, 2015</td>\n",
              "      <td>Varies with device</td>\n",
              "      <td>Varies with device</td>\n",
              "    </tr>\n",
              "    <tr>\n",
              "      <th>10840</th>\n",
              "      <td>iHoroscope - 2018 Daily Horoscope &amp; Astrology</td>\n",
              "      <td>LIFESTYLE</td>\n",
              "      <td>4.5</td>\n",
              "      <td>398307</td>\n",
              "      <td>19M</td>\n",
              "      <td>10,000,000+</td>\n",
              "      <td>Free</td>\n",
              "      <td>0</td>\n",
              "      <td>Everyone</td>\n",
              "      <td>Lifestyle</td>\n",
              "      <td>July 25, 2018</td>\n",
              "      <td>Varies with device</td>\n",
              "      <td>Varies with device</td>\n",
              "    </tr>\n",
              "  </tbody>\n",
              "</table>\n",
              "</div>\n",
              "      <button class=\"colab-df-convert\" onclick=\"convertToInteractive('df-a48e594d-67f2-4022-bdd4-1917519e4f17')\"\n",
              "              title=\"Convert this dataframe to an interactive table.\"\n",
              "              style=\"display:none;\">\n",
              "        \n",
              "  <svg xmlns=\"http://www.w3.org/2000/svg\" height=\"24px\"viewBox=\"0 0 24 24\"\n",
              "       width=\"24px\">\n",
              "    <path d=\"M0 0h24v24H0V0z\" fill=\"none\"/>\n",
              "    <path d=\"M18.56 5.44l.94 2.06.94-2.06 2.06-.94-2.06-.94-.94-2.06-.94 2.06-2.06.94zm-11 1L8.5 8.5l.94-2.06 2.06-.94-2.06-.94L8.5 2.5l-.94 2.06-2.06.94zm10 10l.94 2.06.94-2.06 2.06-.94-2.06-.94-.94-2.06-.94 2.06-2.06.94z\"/><path d=\"M17.41 7.96l-1.37-1.37c-.4-.4-.92-.59-1.43-.59-.52 0-1.04.2-1.43.59L10.3 9.45l-7.72 7.72c-.78.78-.78 2.05 0 2.83L4 21.41c.39.39.9.59 1.41.59.51 0 1.02-.2 1.41-.59l7.78-7.78 2.81-2.81c.8-.78.8-2.07 0-2.86zM5.41 20L4 18.59l7.72-7.72 1.47 1.35L5.41 20z\"/>\n",
              "  </svg>\n",
              "      </button>\n",
              "      \n",
              "  <style>\n",
              "    .colab-df-container {\n",
              "      display:flex;\n",
              "      flex-wrap:wrap;\n",
              "      gap: 12px;\n",
              "    }\n",
              "\n",
              "    .colab-df-convert {\n",
              "      background-color: #E8F0FE;\n",
              "      border: none;\n",
              "      border-radius: 50%;\n",
              "      cursor: pointer;\n",
              "      display: none;\n",
              "      fill: #1967D2;\n",
              "      height: 32px;\n",
              "      padding: 0 0 0 0;\n",
              "      width: 32px;\n",
              "    }\n",
              "\n",
              "    .colab-df-convert:hover {\n",
              "      background-color: #E2EBFA;\n",
              "      box-shadow: 0px 1px 2px rgba(60, 64, 67, 0.3), 0px 1px 3px 1px rgba(60, 64, 67, 0.15);\n",
              "      fill: #174EA6;\n",
              "    }\n",
              "\n",
              "    [theme=dark] .colab-df-convert {\n",
              "      background-color: #3B4455;\n",
              "      fill: #D2E3FC;\n",
              "    }\n",
              "\n",
              "    [theme=dark] .colab-df-convert:hover {\n",
              "      background-color: #434B5C;\n",
              "      box-shadow: 0px 1px 3px 1px rgba(0, 0, 0, 0.15);\n",
              "      filter: drop-shadow(0px 1px 2px rgba(0, 0, 0, 0.3));\n",
              "      fill: #FFFFFF;\n",
              "    }\n",
              "  </style>\n",
              "\n",
              "      <script>\n",
              "        const buttonEl =\n",
              "          document.querySelector('#df-a48e594d-67f2-4022-bdd4-1917519e4f17 button.colab-df-convert');\n",
              "        buttonEl.style.display =\n",
              "          google.colab.kernel.accessAllowed ? 'block' : 'none';\n",
              "\n",
              "        async function convertToInteractive(key) {\n",
              "          const element = document.querySelector('#df-a48e594d-67f2-4022-bdd4-1917519e4f17');\n",
              "          const dataTable =\n",
              "            await google.colab.kernel.invokeFunction('convertToInteractive',\n",
              "                                                     [key], {});\n",
              "          if (!dataTable) return;\n",
              "\n",
              "          const docLinkHtml = 'Like what you see? Visit the ' +\n",
              "            '<a target=\"_blank\" href=https://colab.research.google.com/notebooks/data_table.ipynb>data table notebook</a>'\n",
              "            + ' to learn more about interactive tables.';\n",
              "          element.innerHTML = '';\n",
              "          dataTable['output_type'] = 'display_data';\n",
              "          await google.colab.output.renderOutput(dataTable, element);\n",
              "          const docLink = document.createElement('div');\n",
              "          docLink.innerHTML = docLinkHtml;\n",
              "          element.appendChild(docLink);\n",
              "        }\n",
              "      </script>\n",
              "    </div>\n",
              "  </div>\n",
              "  "
            ]
          },
          "metadata": {},
          "execution_count": 4
        }
      ]
    },
    {
      "cell_type": "markdown",
      "source": [
        "#<font color='red'> **Data Summery of dataset 1**"
      ],
      "metadata": {
        "id": "dFUargYUPfP3"
      }
    },
    {
      "cell_type": "markdown",
      "source": [
        "1.Drop less important rows"
      ],
      "metadata": {
        "id": "DKUQu8js0fVs"
      }
    },
    {
      "cell_type": "code",
      "source": [
        "#get information about null values and datatypes\n",
        "df1.info()"
      ],
      "metadata": {
        "id": "VqsqYtHhFiRr",
        "colab": {
          "base_uri": "https://localhost:8080/"
        },
        "outputId": "9f503a89-a3c9-4b0e-db31-3bcfb14d7a96"
      },
      "execution_count": null,
      "outputs": [
        {
          "output_type": "stream",
          "name": "stdout",
          "text": [
            "<class 'pandas.core.frame.DataFrame'>\n",
            "RangeIndex: 10841 entries, 0 to 10840\n",
            "Data columns (total 13 columns):\n",
            " #   Column          Non-Null Count  Dtype  \n",
            "---  ------          --------------  -----  \n",
            " 0   App             10841 non-null  object \n",
            " 1   Category        10841 non-null  object \n",
            " 2   Rating          9367 non-null   float64\n",
            " 3   Reviews         10841 non-null  object \n",
            " 4   Size            10841 non-null  object \n",
            " 5   Installs        10841 non-null  object \n",
            " 6   Type            10840 non-null  object \n",
            " 7   Price           10841 non-null  object \n",
            " 8   Content Rating  10840 non-null  object \n",
            " 9   Genres          10841 non-null  object \n",
            " 10  Last Updated    10841 non-null  object \n",
            " 11  Current Ver     10833 non-null  object \n",
            " 12  Android Ver     10838 non-null  object \n",
            "dtypes: float64(1), object(12)\n",
            "memory usage: 1.1+ MB\n"
          ]
        }
      ]
    },
    {
      "cell_type": "code",
      "source": [
        "#drop unwanted columns\n",
        "#Genres : Genres and Category columns gives similar meaning so delete one column\n",
        "df1=df1.drop([\"Genres\",\"Current Ver\",\"Android Ver\"],axis=1)\n",
        "\n",
        "#drop row which accidentally placed in dataframe\n",
        "df1.drop(df1.index[df1['Category'] == \"1.9\"], inplace=True)"
      ],
      "metadata": {
        "id": "7jrdwGE8z5dy"
      },
      "execution_count": null,
      "outputs": []
    },
    {
      "cell_type": "code",
      "source": [
        "#dataframe after deleting unwanted rows\n",
        "df1.head()"
      ],
      "metadata": {
        "colab": {
          "base_uri": "https://localhost:8080/",
          "height": 206
        },
        "id": "5iPWrbML-tuZ",
        "outputId": "3eeb8395-aab6-45d7-c642-1de75c508515"
      },
      "execution_count": null,
      "outputs": [
        {
          "output_type": "execute_result",
          "data": {
            "text/plain": [
              "                                                 App        Category  Rating  \\\n",
              "0     Photo Editor & Candy Camera & Grid & ScrapBook  ART_AND_DESIGN     4.1   \n",
              "1                                Coloring book moana  ART_AND_DESIGN     3.9   \n",
              "2  U Launcher Lite – FREE Live Cool Themes, Hide ...  ART_AND_DESIGN     4.7   \n",
              "3                              Sketch - Draw & Paint  ART_AND_DESIGN     4.5   \n",
              "4              Pixel Draw - Number Art Coloring Book  ART_AND_DESIGN     4.3   \n",
              "\n",
              "  Reviews  Size     Installs  Type Price Content Rating      Last Updated  \n",
              "0     159   19M      10,000+  Free     0       Everyone   January 7, 2018  \n",
              "1     967   14M     500,000+  Free     0       Everyone  January 15, 2018  \n",
              "2   87510  8.7M   5,000,000+  Free     0       Everyone    August 1, 2018  \n",
              "3  215644   25M  50,000,000+  Free     0           Teen      June 8, 2018  \n",
              "4     967  2.8M     100,000+  Free     0       Everyone     June 20, 2018  "
            ],
            "text/html": [
              "\n",
              "  <div id=\"df-c55d3216-7fc0-44b2-8aa8-53ae09208f31\">\n",
              "    <div class=\"colab-df-container\">\n",
              "      <div>\n",
              "<style scoped>\n",
              "    .dataframe tbody tr th:only-of-type {\n",
              "        vertical-align: middle;\n",
              "    }\n",
              "\n",
              "    .dataframe tbody tr th {\n",
              "        vertical-align: top;\n",
              "    }\n",
              "\n",
              "    .dataframe thead th {\n",
              "        text-align: right;\n",
              "    }\n",
              "</style>\n",
              "<table border=\"1\" class=\"dataframe\">\n",
              "  <thead>\n",
              "    <tr style=\"text-align: right;\">\n",
              "      <th></th>\n",
              "      <th>App</th>\n",
              "      <th>Category</th>\n",
              "      <th>Rating</th>\n",
              "      <th>Reviews</th>\n",
              "      <th>Size</th>\n",
              "      <th>Installs</th>\n",
              "      <th>Type</th>\n",
              "      <th>Price</th>\n",
              "      <th>Content Rating</th>\n",
              "      <th>Last Updated</th>\n",
              "    </tr>\n",
              "  </thead>\n",
              "  <tbody>\n",
              "    <tr>\n",
              "      <th>0</th>\n",
              "      <td>Photo Editor &amp; Candy Camera &amp; Grid &amp; ScrapBook</td>\n",
              "      <td>ART_AND_DESIGN</td>\n",
              "      <td>4.1</td>\n",
              "      <td>159</td>\n",
              "      <td>19M</td>\n",
              "      <td>10,000+</td>\n",
              "      <td>Free</td>\n",
              "      <td>0</td>\n",
              "      <td>Everyone</td>\n",
              "      <td>January 7, 2018</td>\n",
              "    </tr>\n",
              "    <tr>\n",
              "      <th>1</th>\n",
              "      <td>Coloring book moana</td>\n",
              "      <td>ART_AND_DESIGN</td>\n",
              "      <td>3.9</td>\n",
              "      <td>967</td>\n",
              "      <td>14M</td>\n",
              "      <td>500,000+</td>\n",
              "      <td>Free</td>\n",
              "      <td>0</td>\n",
              "      <td>Everyone</td>\n",
              "      <td>January 15, 2018</td>\n",
              "    </tr>\n",
              "    <tr>\n",
              "      <th>2</th>\n",
              "      <td>U Launcher Lite – FREE Live Cool Themes, Hide ...</td>\n",
              "      <td>ART_AND_DESIGN</td>\n",
              "      <td>4.7</td>\n",
              "      <td>87510</td>\n",
              "      <td>8.7M</td>\n",
              "      <td>5,000,000+</td>\n",
              "      <td>Free</td>\n",
              "      <td>0</td>\n",
              "      <td>Everyone</td>\n",
              "      <td>August 1, 2018</td>\n",
              "    </tr>\n",
              "    <tr>\n",
              "      <th>3</th>\n",
              "      <td>Sketch - Draw &amp; Paint</td>\n",
              "      <td>ART_AND_DESIGN</td>\n",
              "      <td>4.5</td>\n",
              "      <td>215644</td>\n",
              "      <td>25M</td>\n",
              "      <td>50,000,000+</td>\n",
              "      <td>Free</td>\n",
              "      <td>0</td>\n",
              "      <td>Teen</td>\n",
              "      <td>June 8, 2018</td>\n",
              "    </tr>\n",
              "    <tr>\n",
              "      <th>4</th>\n",
              "      <td>Pixel Draw - Number Art Coloring Book</td>\n",
              "      <td>ART_AND_DESIGN</td>\n",
              "      <td>4.3</td>\n",
              "      <td>967</td>\n",
              "      <td>2.8M</td>\n",
              "      <td>100,000+</td>\n",
              "      <td>Free</td>\n",
              "      <td>0</td>\n",
              "      <td>Everyone</td>\n",
              "      <td>June 20, 2018</td>\n",
              "    </tr>\n",
              "  </tbody>\n",
              "</table>\n",
              "</div>\n",
              "      <button class=\"colab-df-convert\" onclick=\"convertToInteractive('df-c55d3216-7fc0-44b2-8aa8-53ae09208f31')\"\n",
              "              title=\"Convert this dataframe to an interactive table.\"\n",
              "              style=\"display:none;\">\n",
              "        \n",
              "  <svg xmlns=\"http://www.w3.org/2000/svg\" height=\"24px\"viewBox=\"0 0 24 24\"\n",
              "       width=\"24px\">\n",
              "    <path d=\"M0 0h24v24H0V0z\" fill=\"none\"/>\n",
              "    <path d=\"M18.56 5.44l.94 2.06.94-2.06 2.06-.94-2.06-.94-.94-2.06-.94 2.06-2.06.94zm-11 1L8.5 8.5l.94-2.06 2.06-.94-2.06-.94L8.5 2.5l-.94 2.06-2.06.94zm10 10l.94 2.06.94-2.06 2.06-.94-2.06-.94-.94-2.06-.94 2.06-2.06.94z\"/><path d=\"M17.41 7.96l-1.37-1.37c-.4-.4-.92-.59-1.43-.59-.52 0-1.04.2-1.43.59L10.3 9.45l-7.72 7.72c-.78.78-.78 2.05 0 2.83L4 21.41c.39.39.9.59 1.41.59.51 0 1.02-.2 1.41-.59l7.78-7.78 2.81-2.81c.8-.78.8-2.07 0-2.86zM5.41 20L4 18.59l7.72-7.72 1.47 1.35L5.41 20z\"/>\n",
              "  </svg>\n",
              "      </button>\n",
              "      \n",
              "  <style>\n",
              "    .colab-df-container {\n",
              "      display:flex;\n",
              "      flex-wrap:wrap;\n",
              "      gap: 12px;\n",
              "    }\n",
              "\n",
              "    .colab-df-convert {\n",
              "      background-color: #E8F0FE;\n",
              "      border: none;\n",
              "      border-radius: 50%;\n",
              "      cursor: pointer;\n",
              "      display: none;\n",
              "      fill: #1967D2;\n",
              "      height: 32px;\n",
              "      padding: 0 0 0 0;\n",
              "      width: 32px;\n",
              "    }\n",
              "\n",
              "    .colab-df-convert:hover {\n",
              "      background-color: #E2EBFA;\n",
              "      box-shadow: 0px 1px 2px rgba(60, 64, 67, 0.3), 0px 1px 3px 1px rgba(60, 64, 67, 0.15);\n",
              "      fill: #174EA6;\n",
              "    }\n",
              "\n",
              "    [theme=dark] .colab-df-convert {\n",
              "      background-color: #3B4455;\n",
              "      fill: #D2E3FC;\n",
              "    }\n",
              "\n",
              "    [theme=dark] .colab-df-convert:hover {\n",
              "      background-color: #434B5C;\n",
              "      box-shadow: 0px 1px 3px 1px rgba(0, 0, 0, 0.15);\n",
              "      filter: drop-shadow(0px 1px 2px rgba(0, 0, 0, 0.3));\n",
              "      fill: #FFFFFF;\n",
              "    }\n",
              "  </style>\n",
              "\n",
              "      <script>\n",
              "        const buttonEl =\n",
              "          document.querySelector('#df-c55d3216-7fc0-44b2-8aa8-53ae09208f31 button.colab-df-convert');\n",
              "        buttonEl.style.display =\n",
              "          google.colab.kernel.accessAllowed ? 'block' : 'none';\n",
              "\n",
              "        async function convertToInteractive(key) {\n",
              "          const element = document.querySelector('#df-c55d3216-7fc0-44b2-8aa8-53ae09208f31');\n",
              "          const dataTable =\n",
              "            await google.colab.kernel.invokeFunction('convertToInteractive',\n",
              "                                                     [key], {});\n",
              "          if (!dataTable) return;\n",
              "\n",
              "          const docLinkHtml = 'Like what you see? Visit the ' +\n",
              "            '<a target=\"_blank\" href=https://colab.research.google.com/notebooks/data_table.ipynb>data table notebook</a>'\n",
              "            + ' to learn more about interactive tables.';\n",
              "          element.innerHTML = '';\n",
              "          dataTable['output_type'] = 'display_data';\n",
              "          await google.colab.output.renderOutput(dataTable, element);\n",
              "          const docLink = document.createElement('div');\n",
              "          docLink.innerHTML = docLinkHtml;\n",
              "          element.appendChild(docLink);\n",
              "        }\n",
              "      </script>\n",
              "    </div>\n",
              "  </div>\n",
              "  "
            ]
          },
          "metadata": {},
          "execution_count": 7
        }
      ]
    },
    {
      "cell_type": "markdown",
      "source": [
        "2.Change data type : Convert columns to required data type"
      ],
      "metadata": {
        "id": "K2EeDcrh02ez"
      }
    },
    {
      "cell_type": "code",
      "source": [
        "#Install column : replace some values and convert to integer\n",
        "df1[\"Installs\"]=df1[\"Installs\"].str.replace(\",\",\"\")\n",
        "df1[\"Installs\"]=df1[\"Installs\"].str.replace(\"+\",\"\")\n",
        "df1['Installs']=pd.to_numeric(df1['Installs'], downcast='integer')\n",
        "\n",
        "#Price column : replace some values and convert to integer\n",
        "df1[\"Price\"]=df1[\"Price\"].str.replace(\"$\",\"\")\n",
        "df1['Price']=pd.to_numeric(df1['Price'], downcast='integer')\n",
        "\n",
        "#Type column : change datatype object to integer by encoding\n",
        "df1[\"Type\"]=df1[\"Type\"].map({\"Free\":0,\"Paid\":1})\n",
        "df1['Type']=pd.to_numeric(df1['Type'], downcast='integer')\n",
        "\n",
        "#Content rating column : change datatype object to integer by encoding\n",
        "df1[\"Content Rating\"]=df1[\"Content Rating\"].map({\"Everyone\":0,\"Teen\":1,\"Mature 17+\":2,\"Everyone 10+\":3,\"Adults only 18+\":4,\"Unrated\":5})\n",
        "df1['Content Rating']=pd.to_numeric(df1['Content Rating'], downcast='integer')\n",
        "\n",
        "#Reviews column : convert to integer\n",
        "df1['Reviews']=pd.to_numeric(df1['Reviews'], downcast='integer')"
      ],
      "metadata": {
        "id": "5h2h-s6P1FFR"
      },
      "execution_count": null,
      "outputs": []
    },
    {
      "cell_type": "code",
      "source": [
        "#extract only year value from \"Last Update\" column\n",
        "year_list=[]\n",
        "for i in df1[\"Last Updated\"]:\n",
        "  year=i[-4:]\n",
        "  year_list.append(year)\n",
        "\n",
        "#insert year values in dataset 1\n",
        "df1[\"Last Updated year\"]= year_list\n",
        "df1['Last Updated year']=pd.to_numeric(df1['Last Updated year'], downcast='integer') \n"
      ],
      "metadata": {
        "id": "bPhvDkvb-nL7"
      },
      "execution_count": null,
      "outputs": []
    },
    {
      "cell_type": "code",
      "source": [
        "#final dataframe\n",
        "df1_final=df1.copy()\n",
        "df1_final=df1_final.drop([\"Last Updated\"],axis=1)"
      ],
      "metadata": {
        "id": "IXd7yWlfED-7"
      },
      "execution_count": null,
      "outputs": []
    },
    {
      "cell_type": "markdown",
      "source": [
        "3.Find out Numerical and categorical feature and according to that we can analyse the data."
      ],
      "metadata": {
        "id": "LxFlruiZR5AV"
      }
    },
    {
      "cell_type": "code",
      "source": [
        "#numerical features in dataset 1\n",
        "numerical_features1=[feature for feature in df1_final.columns if df1_final[feature].dtype !=\"O\"]\n",
        "numerical_features1"
      ],
      "metadata": {
        "colab": {
          "base_uri": "https://localhost:8080/"
        },
        "id": "Y18JTF5BSKq8",
        "outputId": "6ae3c887-abca-4b1a-c062-b19768b17681"
      },
      "execution_count": null,
      "outputs": [
        {
          "output_type": "execute_result",
          "data": {
            "text/plain": [
              "['Rating',\n",
              " 'Reviews',\n",
              " 'Installs',\n",
              " 'Type',\n",
              " 'Price',\n",
              " 'Content Rating',\n",
              " 'Last Updated year']"
            ]
          },
          "metadata": {},
          "execution_count": 11
        }
      ]
    },
    {
      "cell_type": "markdown",
      "source": [
        "a)Discrete"
      ],
      "metadata": {
        "id": "5hpqifmRTojR"
      }
    },
    {
      "cell_type": "code",
      "source": [
        "#discrete numerical features in dataset 1\n",
        "dec_features1=[feature for feature in numerical_features1 if len(df1[feature].unique())<10]\n",
        "dec_features1"
      ],
      "metadata": {
        "colab": {
          "base_uri": "https://localhost:8080/"
        },
        "id": "HTvX9k0ATtcR",
        "outputId": "d1b51191-967d-4e9e-cde5-fbdbcbd03500"
      },
      "execution_count": null,
      "outputs": [
        {
          "output_type": "execute_result",
          "data": {
            "text/plain": [
              "['Type', 'Content Rating', 'Last Updated year']"
            ]
          },
          "metadata": {},
          "execution_count": 12
        }
      ]
    },
    {
      "cell_type": "markdown",
      "source": [
        "b)Continuous"
      ],
      "metadata": {
        "id": "JU3RgiIHU5QJ"
      }
    },
    {
      "cell_type": "code",
      "source": [
        "#continuous numerical features in dataset 1\n",
        "con_features1=[feature for feature in numerical_features1 if feature not in dec_features1]\n",
        "con_features1"
      ],
      "metadata": {
        "colab": {
          "base_uri": "https://localhost:8080/"
        },
        "id": "zgYNQ_zoU-Qm",
        "outputId": "5132e4a5-dcf1-4494-d03b-b0e4438c862d"
      },
      "execution_count": null,
      "outputs": [
        {
          "output_type": "execute_result",
          "data": {
            "text/plain": [
              "['Rating', 'Reviews', 'Installs', 'Price']"
            ]
          },
          "metadata": {},
          "execution_count": 13
        }
      ]
    },
    {
      "cell_type": "markdown",
      "source": [
        "c)Categorical"
      ],
      "metadata": {
        "id": "wvY4IKd-VZ1e"
      }
    },
    {
      "cell_type": "code",
      "source": [
        "#Categorical numerical features in dataset 1\n",
        "catg_features1=[feature for feature in df1_final.columns if df1_final[feature].dtype ==\"O\"]\n",
        "catg_features1"
      ],
      "metadata": {
        "colab": {
          "base_uri": "https://localhost:8080/"
        },
        "id": "0NyBZiQCVb-g",
        "outputId": "2d49d026-1f2c-4841-c81d-da9dd465c98b"
      },
      "execution_count": null,
      "outputs": [
        {
          "output_type": "execute_result",
          "data": {
            "text/plain": [
              "['App', 'Category', 'Size']"
            ]
          },
          "metadata": {},
          "execution_count": 14
        }
      ]
    },
    {
      "cell_type": "markdown",
      "source": [
        "4.Deals with null values in dataset 1"
      ],
      "metadata": {
        "id": "f2Dwv8HfEpQB"
      }
    },
    {
      "cell_type": "code",
      "source": [
        "#Count of null value rows in each column\n",
        "df1_final.isnull().sum()    "
      ],
      "metadata": {
        "id": "yc8WQiX7FzDX",
        "colab": {
          "base_uri": "https://localhost:8080/"
        },
        "outputId": "983cca17-ca7a-46eb-e6dc-2e1405079296"
      },
      "execution_count": null,
      "outputs": [
        {
          "output_type": "execute_result",
          "data": {
            "text/plain": [
              "App                     0\n",
              "Category                0\n",
              "Rating               1474\n",
              "Reviews                 0\n",
              "Size                    0\n",
              "Installs                0\n",
              "Type                    1\n",
              "Price                   0\n",
              "Content Rating          0\n",
              "Last Updated year       0\n",
              "dtype: int64"
            ]
          },
          "metadata": {},
          "execution_count": 15
        }
      ]
    },
    {
      "cell_type": "code",
      "source": [
        "#Type column : replace null value with most frequently occoured value in that column\n",
        "df1_final[\"Type\"]=df1_final[\"Type\"].fillna(df1_final.Type.mode())\n",
        "\n",
        "#Rating column : Rating is depends on application features so can't use fillna method with Mean,Mode,Median or any other values.So I will drop these rows.\n",
        "df1_final=df1_final.dropna()"
      ],
      "metadata": {
        "id": "BfOueN5qJ8St"
      },
      "execution_count": null,
      "outputs": []
    },
    {
      "cell_type": "code",
      "source": [
        "#final dataset 1\n",
        "df1_final.head()"
      ],
      "metadata": {
        "colab": {
          "base_uri": "https://localhost:8080/",
          "height": 206
        },
        "id": "InIA8Q0BDd25",
        "outputId": "510f85ab-58a4-41fb-cc40-56d4dc43f547"
      },
      "execution_count": null,
      "outputs": [
        {
          "output_type": "execute_result",
          "data": {
            "text/plain": [
              "                                                 App        Category  Rating  \\\n",
              "0     Photo Editor & Candy Camera & Grid & ScrapBook  ART_AND_DESIGN     4.1   \n",
              "1                                Coloring book moana  ART_AND_DESIGN     3.9   \n",
              "2  U Launcher Lite – FREE Live Cool Themes, Hide ...  ART_AND_DESIGN     4.7   \n",
              "3                              Sketch - Draw & Paint  ART_AND_DESIGN     4.5   \n",
              "4              Pixel Draw - Number Art Coloring Book  ART_AND_DESIGN     4.3   \n",
              "\n",
              "   Reviews  Size  Installs  Type  Price  Content Rating  Last Updated year  \n",
              "0      159   19M     10000   0.0    0.0               0               2018  \n",
              "1      967   14M    500000   0.0    0.0               0               2018  \n",
              "2    87510  8.7M   5000000   0.0    0.0               0               2018  \n",
              "3   215644   25M  50000000   0.0    0.0               1               2018  \n",
              "4      967  2.8M    100000   0.0    0.0               0               2018  "
            ],
            "text/html": [
              "\n",
              "  <div id=\"df-a530ea00-269e-4380-a29c-71c9fd7a60ec\">\n",
              "    <div class=\"colab-df-container\">\n",
              "      <div>\n",
              "<style scoped>\n",
              "    .dataframe tbody tr th:only-of-type {\n",
              "        vertical-align: middle;\n",
              "    }\n",
              "\n",
              "    .dataframe tbody tr th {\n",
              "        vertical-align: top;\n",
              "    }\n",
              "\n",
              "    .dataframe thead th {\n",
              "        text-align: right;\n",
              "    }\n",
              "</style>\n",
              "<table border=\"1\" class=\"dataframe\">\n",
              "  <thead>\n",
              "    <tr style=\"text-align: right;\">\n",
              "      <th></th>\n",
              "      <th>App</th>\n",
              "      <th>Category</th>\n",
              "      <th>Rating</th>\n",
              "      <th>Reviews</th>\n",
              "      <th>Size</th>\n",
              "      <th>Installs</th>\n",
              "      <th>Type</th>\n",
              "      <th>Price</th>\n",
              "      <th>Content Rating</th>\n",
              "      <th>Last Updated year</th>\n",
              "    </tr>\n",
              "  </thead>\n",
              "  <tbody>\n",
              "    <tr>\n",
              "      <th>0</th>\n",
              "      <td>Photo Editor &amp; Candy Camera &amp; Grid &amp; ScrapBook</td>\n",
              "      <td>ART_AND_DESIGN</td>\n",
              "      <td>4.1</td>\n",
              "      <td>159</td>\n",
              "      <td>19M</td>\n",
              "      <td>10000</td>\n",
              "      <td>0.0</td>\n",
              "      <td>0.0</td>\n",
              "      <td>0</td>\n",
              "      <td>2018</td>\n",
              "    </tr>\n",
              "    <tr>\n",
              "      <th>1</th>\n",
              "      <td>Coloring book moana</td>\n",
              "      <td>ART_AND_DESIGN</td>\n",
              "      <td>3.9</td>\n",
              "      <td>967</td>\n",
              "      <td>14M</td>\n",
              "      <td>500000</td>\n",
              "      <td>0.0</td>\n",
              "      <td>0.0</td>\n",
              "      <td>0</td>\n",
              "      <td>2018</td>\n",
              "    </tr>\n",
              "    <tr>\n",
              "      <th>2</th>\n",
              "      <td>U Launcher Lite – FREE Live Cool Themes, Hide ...</td>\n",
              "      <td>ART_AND_DESIGN</td>\n",
              "      <td>4.7</td>\n",
              "      <td>87510</td>\n",
              "      <td>8.7M</td>\n",
              "      <td>5000000</td>\n",
              "      <td>0.0</td>\n",
              "      <td>0.0</td>\n",
              "      <td>0</td>\n",
              "      <td>2018</td>\n",
              "    </tr>\n",
              "    <tr>\n",
              "      <th>3</th>\n",
              "      <td>Sketch - Draw &amp; Paint</td>\n",
              "      <td>ART_AND_DESIGN</td>\n",
              "      <td>4.5</td>\n",
              "      <td>215644</td>\n",
              "      <td>25M</td>\n",
              "      <td>50000000</td>\n",
              "      <td>0.0</td>\n",
              "      <td>0.0</td>\n",
              "      <td>1</td>\n",
              "      <td>2018</td>\n",
              "    </tr>\n",
              "    <tr>\n",
              "      <th>4</th>\n",
              "      <td>Pixel Draw - Number Art Coloring Book</td>\n",
              "      <td>ART_AND_DESIGN</td>\n",
              "      <td>4.3</td>\n",
              "      <td>967</td>\n",
              "      <td>2.8M</td>\n",
              "      <td>100000</td>\n",
              "      <td>0.0</td>\n",
              "      <td>0.0</td>\n",
              "      <td>0</td>\n",
              "      <td>2018</td>\n",
              "    </tr>\n",
              "  </tbody>\n",
              "</table>\n",
              "</div>\n",
              "      <button class=\"colab-df-convert\" onclick=\"convertToInteractive('df-a530ea00-269e-4380-a29c-71c9fd7a60ec')\"\n",
              "              title=\"Convert this dataframe to an interactive table.\"\n",
              "              style=\"display:none;\">\n",
              "        \n",
              "  <svg xmlns=\"http://www.w3.org/2000/svg\" height=\"24px\"viewBox=\"0 0 24 24\"\n",
              "       width=\"24px\">\n",
              "    <path d=\"M0 0h24v24H0V0z\" fill=\"none\"/>\n",
              "    <path d=\"M18.56 5.44l.94 2.06.94-2.06 2.06-.94-2.06-.94-.94-2.06-.94 2.06-2.06.94zm-11 1L8.5 8.5l.94-2.06 2.06-.94-2.06-.94L8.5 2.5l-.94 2.06-2.06.94zm10 10l.94 2.06.94-2.06 2.06-.94-2.06-.94-.94-2.06-.94 2.06-2.06.94z\"/><path d=\"M17.41 7.96l-1.37-1.37c-.4-.4-.92-.59-1.43-.59-.52 0-1.04.2-1.43.59L10.3 9.45l-7.72 7.72c-.78.78-.78 2.05 0 2.83L4 21.41c.39.39.9.59 1.41.59.51 0 1.02-.2 1.41-.59l7.78-7.78 2.81-2.81c.8-.78.8-2.07 0-2.86zM5.41 20L4 18.59l7.72-7.72 1.47 1.35L5.41 20z\"/>\n",
              "  </svg>\n",
              "      </button>\n",
              "      \n",
              "  <style>\n",
              "    .colab-df-container {\n",
              "      display:flex;\n",
              "      flex-wrap:wrap;\n",
              "      gap: 12px;\n",
              "    }\n",
              "\n",
              "    .colab-df-convert {\n",
              "      background-color: #E8F0FE;\n",
              "      border: none;\n",
              "      border-radius: 50%;\n",
              "      cursor: pointer;\n",
              "      display: none;\n",
              "      fill: #1967D2;\n",
              "      height: 32px;\n",
              "      padding: 0 0 0 0;\n",
              "      width: 32px;\n",
              "    }\n",
              "\n",
              "    .colab-df-convert:hover {\n",
              "      background-color: #E2EBFA;\n",
              "      box-shadow: 0px 1px 2px rgba(60, 64, 67, 0.3), 0px 1px 3px 1px rgba(60, 64, 67, 0.15);\n",
              "      fill: #174EA6;\n",
              "    }\n",
              "\n",
              "    [theme=dark] .colab-df-convert {\n",
              "      background-color: #3B4455;\n",
              "      fill: #D2E3FC;\n",
              "    }\n",
              "\n",
              "    [theme=dark] .colab-df-convert:hover {\n",
              "      background-color: #434B5C;\n",
              "      box-shadow: 0px 1px 3px 1px rgba(0, 0, 0, 0.15);\n",
              "      filter: drop-shadow(0px 1px 2px rgba(0, 0, 0, 0.3));\n",
              "      fill: #FFFFFF;\n",
              "    }\n",
              "  </style>\n",
              "\n",
              "      <script>\n",
              "        const buttonEl =\n",
              "          document.querySelector('#df-a530ea00-269e-4380-a29c-71c9fd7a60ec button.colab-df-convert');\n",
              "        buttonEl.style.display =\n",
              "          google.colab.kernel.accessAllowed ? 'block' : 'none';\n",
              "\n",
              "        async function convertToInteractive(key) {\n",
              "          const element = document.querySelector('#df-a530ea00-269e-4380-a29c-71c9fd7a60ec');\n",
              "          const dataTable =\n",
              "            await google.colab.kernel.invokeFunction('convertToInteractive',\n",
              "                                                     [key], {});\n",
              "          if (!dataTable) return;\n",
              "\n",
              "          const docLinkHtml = 'Like what you see? Visit the ' +\n",
              "            '<a target=\"_blank\" href=https://colab.research.google.com/notebooks/data_table.ipynb>data table notebook</a>'\n",
              "            + ' to learn more about interactive tables.';\n",
              "          element.innerHTML = '';\n",
              "          dataTable['output_type'] = 'display_data';\n",
              "          await google.colab.output.renderOutput(dataTable, element);\n",
              "          const docLink = document.createElement('div');\n",
              "          docLink.innerHTML = docLinkHtml;\n",
              "          element.appendChild(docLink);\n",
              "        }\n",
              "      </script>\n",
              "    </div>\n",
              "  </div>\n",
              "  "
            ]
          },
          "metadata": {},
          "execution_count": 17
        }
      ]
    },
    {
      "cell_type": "code",
      "source": [
        "#size of final dataset 1\n",
        "df1_final.shape"
      ],
      "metadata": {
        "colab": {
          "base_uri": "https://localhost:8080/"
        },
        "id": "brCb2OkoOwIs",
        "outputId": "6bce7c2a-cf0d-47ed-d153-eaaa11386973"
      },
      "execution_count": null,
      "outputs": [
        {
          "output_type": "execute_result",
          "data": {
            "text/plain": [
              "(9366, 10)"
            ]
          },
          "metadata": {},
          "execution_count": 18
        }
      ]
    },
    {
      "cell_type": "markdown",
      "source": [
        "# **Dataset 2**"
      ],
      "metadata": {
        "id": "bo4zuj4ALs85"
      }
    },
    {
      "cell_type": "code",
      "source": [
        "#Import dataset 2 from Drive\n",
        "df2=pd.read_csv('/content/MyDrive/MyDrive/project 1/User Reviews.csv')"
      ],
      "metadata": {
        "id": "sN6KDOcTFYwL"
      },
      "execution_count": null,
      "outputs": []
    },
    {
      "cell_type": "code",
      "source": [
        "#to show top 5 rows\n",
        "df2.head()     "
      ],
      "metadata": {
        "id": "ceboh_llFdw_",
        "colab": {
          "base_uri": "https://localhost:8080/",
          "height": 206
        },
        "outputId": "b3417192-e251-4c7f-b63f-0ee0971b0881"
      },
      "execution_count": null,
      "outputs": [
        {
          "output_type": "execute_result",
          "data": {
            "text/plain": [
              "                     App                                  Translated_Review  \\\n",
              "0  10 Best Foods for You  I like eat delicious food. That's I'm cooking ...   \n",
              "1  10 Best Foods for You    This help eating healthy exercise regular basis   \n",
              "2  10 Best Foods for You                                                NaN   \n",
              "3  10 Best Foods for You         Works great especially going grocery store   \n",
              "4  10 Best Foods for You                                       Best idea us   \n",
              "\n",
              "  Sentiment  Sentiment_Polarity  Sentiment_Subjectivity  \n",
              "0  Positive                1.00                0.533333  \n",
              "1  Positive                0.25                0.288462  \n",
              "2       NaN                 NaN                     NaN  \n",
              "3  Positive                0.40                0.875000  \n",
              "4  Positive                1.00                0.300000  "
            ],
            "text/html": [
              "\n",
              "  <div id=\"df-f6739c18-29d8-4ba8-9e6f-7247128b27f2\">\n",
              "    <div class=\"colab-df-container\">\n",
              "      <div>\n",
              "<style scoped>\n",
              "    .dataframe tbody tr th:only-of-type {\n",
              "        vertical-align: middle;\n",
              "    }\n",
              "\n",
              "    .dataframe tbody tr th {\n",
              "        vertical-align: top;\n",
              "    }\n",
              "\n",
              "    .dataframe thead th {\n",
              "        text-align: right;\n",
              "    }\n",
              "</style>\n",
              "<table border=\"1\" class=\"dataframe\">\n",
              "  <thead>\n",
              "    <tr style=\"text-align: right;\">\n",
              "      <th></th>\n",
              "      <th>App</th>\n",
              "      <th>Translated_Review</th>\n",
              "      <th>Sentiment</th>\n",
              "      <th>Sentiment_Polarity</th>\n",
              "      <th>Sentiment_Subjectivity</th>\n",
              "    </tr>\n",
              "  </thead>\n",
              "  <tbody>\n",
              "    <tr>\n",
              "      <th>0</th>\n",
              "      <td>10 Best Foods for You</td>\n",
              "      <td>I like eat delicious food. That's I'm cooking ...</td>\n",
              "      <td>Positive</td>\n",
              "      <td>1.00</td>\n",
              "      <td>0.533333</td>\n",
              "    </tr>\n",
              "    <tr>\n",
              "      <th>1</th>\n",
              "      <td>10 Best Foods for You</td>\n",
              "      <td>This help eating healthy exercise regular basis</td>\n",
              "      <td>Positive</td>\n",
              "      <td>0.25</td>\n",
              "      <td>0.288462</td>\n",
              "    </tr>\n",
              "    <tr>\n",
              "      <th>2</th>\n",
              "      <td>10 Best Foods for You</td>\n",
              "      <td>NaN</td>\n",
              "      <td>NaN</td>\n",
              "      <td>NaN</td>\n",
              "      <td>NaN</td>\n",
              "    </tr>\n",
              "    <tr>\n",
              "      <th>3</th>\n",
              "      <td>10 Best Foods for You</td>\n",
              "      <td>Works great especially going grocery store</td>\n",
              "      <td>Positive</td>\n",
              "      <td>0.40</td>\n",
              "      <td>0.875000</td>\n",
              "    </tr>\n",
              "    <tr>\n",
              "      <th>4</th>\n",
              "      <td>10 Best Foods for You</td>\n",
              "      <td>Best idea us</td>\n",
              "      <td>Positive</td>\n",
              "      <td>1.00</td>\n",
              "      <td>0.300000</td>\n",
              "    </tr>\n",
              "  </tbody>\n",
              "</table>\n",
              "</div>\n",
              "      <button class=\"colab-df-convert\" onclick=\"convertToInteractive('df-f6739c18-29d8-4ba8-9e6f-7247128b27f2')\"\n",
              "              title=\"Convert this dataframe to an interactive table.\"\n",
              "              style=\"display:none;\">\n",
              "        \n",
              "  <svg xmlns=\"http://www.w3.org/2000/svg\" height=\"24px\"viewBox=\"0 0 24 24\"\n",
              "       width=\"24px\">\n",
              "    <path d=\"M0 0h24v24H0V0z\" fill=\"none\"/>\n",
              "    <path d=\"M18.56 5.44l.94 2.06.94-2.06 2.06-.94-2.06-.94-.94-2.06-.94 2.06-2.06.94zm-11 1L8.5 8.5l.94-2.06 2.06-.94-2.06-.94L8.5 2.5l-.94 2.06-2.06.94zm10 10l.94 2.06.94-2.06 2.06-.94-2.06-.94-.94-2.06-.94 2.06-2.06.94z\"/><path d=\"M17.41 7.96l-1.37-1.37c-.4-.4-.92-.59-1.43-.59-.52 0-1.04.2-1.43.59L10.3 9.45l-7.72 7.72c-.78.78-.78 2.05 0 2.83L4 21.41c.39.39.9.59 1.41.59.51 0 1.02-.2 1.41-.59l7.78-7.78 2.81-2.81c.8-.78.8-2.07 0-2.86zM5.41 20L4 18.59l7.72-7.72 1.47 1.35L5.41 20z\"/>\n",
              "  </svg>\n",
              "      </button>\n",
              "      \n",
              "  <style>\n",
              "    .colab-df-container {\n",
              "      display:flex;\n",
              "      flex-wrap:wrap;\n",
              "      gap: 12px;\n",
              "    }\n",
              "\n",
              "    .colab-df-convert {\n",
              "      background-color: #E8F0FE;\n",
              "      border: none;\n",
              "      border-radius: 50%;\n",
              "      cursor: pointer;\n",
              "      display: none;\n",
              "      fill: #1967D2;\n",
              "      height: 32px;\n",
              "      padding: 0 0 0 0;\n",
              "      width: 32px;\n",
              "    }\n",
              "\n",
              "    .colab-df-convert:hover {\n",
              "      background-color: #E2EBFA;\n",
              "      box-shadow: 0px 1px 2px rgba(60, 64, 67, 0.3), 0px 1px 3px 1px rgba(60, 64, 67, 0.15);\n",
              "      fill: #174EA6;\n",
              "    }\n",
              "\n",
              "    [theme=dark] .colab-df-convert {\n",
              "      background-color: #3B4455;\n",
              "      fill: #D2E3FC;\n",
              "    }\n",
              "\n",
              "    [theme=dark] .colab-df-convert:hover {\n",
              "      background-color: #434B5C;\n",
              "      box-shadow: 0px 1px 3px 1px rgba(0, 0, 0, 0.15);\n",
              "      filter: drop-shadow(0px 1px 2px rgba(0, 0, 0, 0.3));\n",
              "      fill: #FFFFFF;\n",
              "    }\n",
              "  </style>\n",
              "\n",
              "      <script>\n",
              "        const buttonEl =\n",
              "          document.querySelector('#df-f6739c18-29d8-4ba8-9e6f-7247128b27f2 button.colab-df-convert');\n",
              "        buttonEl.style.display =\n",
              "          google.colab.kernel.accessAllowed ? 'block' : 'none';\n",
              "\n",
              "        async function convertToInteractive(key) {\n",
              "          const element = document.querySelector('#df-f6739c18-29d8-4ba8-9e6f-7247128b27f2');\n",
              "          const dataTable =\n",
              "            await google.colab.kernel.invokeFunction('convertToInteractive',\n",
              "                                                     [key], {});\n",
              "          if (!dataTable) return;\n",
              "\n",
              "          const docLinkHtml = 'Like what you see? Visit the ' +\n",
              "            '<a target=\"_blank\" href=https://colab.research.google.com/notebooks/data_table.ipynb>data table notebook</a>'\n",
              "            + ' to learn more about interactive tables.';\n",
              "          element.innerHTML = '';\n",
              "          dataTable['output_type'] = 'display_data';\n",
              "          await google.colab.output.renderOutput(dataTable, element);\n",
              "          const docLink = document.createElement('div');\n",
              "          docLink.innerHTML = docLinkHtml;\n",
              "          element.appendChild(docLink);\n",
              "        }\n",
              "      </script>\n",
              "    </div>\n",
              "  </div>\n",
              "  "
            ]
          },
          "metadata": {},
          "execution_count": 20
        }
      ]
    },
    {
      "cell_type": "code",
      "source": [
        "#to show bottom 5 rows\n",
        "df2.tail()    "
      ],
      "metadata": {
        "id": "4Ydiupo8qSP-",
        "colab": {
          "base_uri": "https://localhost:8080/",
          "height": 206
        },
        "outputId": "27f5daf9-d70d-4f23-efa8-65406d5723e4"
      },
      "execution_count": null,
      "outputs": [
        {
          "output_type": "execute_result",
          "data": {
            "text/plain": [
              "                               App Translated_Review Sentiment  \\\n",
              "64290  Houzz Interior Design Ideas               NaN       NaN   \n",
              "64291  Houzz Interior Design Ideas               NaN       NaN   \n",
              "64292  Houzz Interior Design Ideas               NaN       NaN   \n",
              "64293  Houzz Interior Design Ideas               NaN       NaN   \n",
              "64294  Houzz Interior Design Ideas               NaN       NaN   \n",
              "\n",
              "       Sentiment_Polarity  Sentiment_Subjectivity  \n",
              "64290                 NaN                     NaN  \n",
              "64291                 NaN                     NaN  \n",
              "64292                 NaN                     NaN  \n",
              "64293                 NaN                     NaN  \n",
              "64294                 NaN                     NaN  "
            ],
            "text/html": [
              "\n",
              "  <div id=\"df-59b33e14-da4a-45d6-8947-00765e24f0fe\">\n",
              "    <div class=\"colab-df-container\">\n",
              "      <div>\n",
              "<style scoped>\n",
              "    .dataframe tbody tr th:only-of-type {\n",
              "        vertical-align: middle;\n",
              "    }\n",
              "\n",
              "    .dataframe tbody tr th {\n",
              "        vertical-align: top;\n",
              "    }\n",
              "\n",
              "    .dataframe thead th {\n",
              "        text-align: right;\n",
              "    }\n",
              "</style>\n",
              "<table border=\"1\" class=\"dataframe\">\n",
              "  <thead>\n",
              "    <tr style=\"text-align: right;\">\n",
              "      <th></th>\n",
              "      <th>App</th>\n",
              "      <th>Translated_Review</th>\n",
              "      <th>Sentiment</th>\n",
              "      <th>Sentiment_Polarity</th>\n",
              "      <th>Sentiment_Subjectivity</th>\n",
              "    </tr>\n",
              "  </thead>\n",
              "  <tbody>\n",
              "    <tr>\n",
              "      <th>64290</th>\n",
              "      <td>Houzz Interior Design Ideas</td>\n",
              "      <td>NaN</td>\n",
              "      <td>NaN</td>\n",
              "      <td>NaN</td>\n",
              "      <td>NaN</td>\n",
              "    </tr>\n",
              "    <tr>\n",
              "      <th>64291</th>\n",
              "      <td>Houzz Interior Design Ideas</td>\n",
              "      <td>NaN</td>\n",
              "      <td>NaN</td>\n",
              "      <td>NaN</td>\n",
              "      <td>NaN</td>\n",
              "    </tr>\n",
              "    <tr>\n",
              "      <th>64292</th>\n",
              "      <td>Houzz Interior Design Ideas</td>\n",
              "      <td>NaN</td>\n",
              "      <td>NaN</td>\n",
              "      <td>NaN</td>\n",
              "      <td>NaN</td>\n",
              "    </tr>\n",
              "    <tr>\n",
              "      <th>64293</th>\n",
              "      <td>Houzz Interior Design Ideas</td>\n",
              "      <td>NaN</td>\n",
              "      <td>NaN</td>\n",
              "      <td>NaN</td>\n",
              "      <td>NaN</td>\n",
              "    </tr>\n",
              "    <tr>\n",
              "      <th>64294</th>\n",
              "      <td>Houzz Interior Design Ideas</td>\n",
              "      <td>NaN</td>\n",
              "      <td>NaN</td>\n",
              "      <td>NaN</td>\n",
              "      <td>NaN</td>\n",
              "    </tr>\n",
              "  </tbody>\n",
              "</table>\n",
              "</div>\n",
              "      <button class=\"colab-df-convert\" onclick=\"convertToInteractive('df-59b33e14-da4a-45d6-8947-00765e24f0fe')\"\n",
              "              title=\"Convert this dataframe to an interactive table.\"\n",
              "              style=\"display:none;\">\n",
              "        \n",
              "  <svg xmlns=\"http://www.w3.org/2000/svg\" height=\"24px\"viewBox=\"0 0 24 24\"\n",
              "       width=\"24px\">\n",
              "    <path d=\"M0 0h24v24H0V0z\" fill=\"none\"/>\n",
              "    <path d=\"M18.56 5.44l.94 2.06.94-2.06 2.06-.94-2.06-.94-.94-2.06-.94 2.06-2.06.94zm-11 1L8.5 8.5l.94-2.06 2.06-.94-2.06-.94L8.5 2.5l-.94 2.06-2.06.94zm10 10l.94 2.06.94-2.06 2.06-.94-2.06-.94-.94-2.06-.94 2.06-2.06.94z\"/><path d=\"M17.41 7.96l-1.37-1.37c-.4-.4-.92-.59-1.43-.59-.52 0-1.04.2-1.43.59L10.3 9.45l-7.72 7.72c-.78.78-.78 2.05 0 2.83L4 21.41c.39.39.9.59 1.41.59.51 0 1.02-.2 1.41-.59l7.78-7.78 2.81-2.81c.8-.78.8-2.07 0-2.86zM5.41 20L4 18.59l7.72-7.72 1.47 1.35L5.41 20z\"/>\n",
              "  </svg>\n",
              "      </button>\n",
              "      \n",
              "  <style>\n",
              "    .colab-df-container {\n",
              "      display:flex;\n",
              "      flex-wrap:wrap;\n",
              "      gap: 12px;\n",
              "    }\n",
              "\n",
              "    .colab-df-convert {\n",
              "      background-color: #E8F0FE;\n",
              "      border: none;\n",
              "      border-radius: 50%;\n",
              "      cursor: pointer;\n",
              "      display: none;\n",
              "      fill: #1967D2;\n",
              "      height: 32px;\n",
              "      padding: 0 0 0 0;\n",
              "      width: 32px;\n",
              "    }\n",
              "\n",
              "    .colab-df-convert:hover {\n",
              "      background-color: #E2EBFA;\n",
              "      box-shadow: 0px 1px 2px rgba(60, 64, 67, 0.3), 0px 1px 3px 1px rgba(60, 64, 67, 0.15);\n",
              "      fill: #174EA6;\n",
              "    }\n",
              "\n",
              "    [theme=dark] .colab-df-convert {\n",
              "      background-color: #3B4455;\n",
              "      fill: #D2E3FC;\n",
              "    }\n",
              "\n",
              "    [theme=dark] .colab-df-convert:hover {\n",
              "      background-color: #434B5C;\n",
              "      box-shadow: 0px 1px 3px 1px rgba(0, 0, 0, 0.15);\n",
              "      filter: drop-shadow(0px 1px 2px rgba(0, 0, 0, 0.3));\n",
              "      fill: #FFFFFF;\n",
              "    }\n",
              "  </style>\n",
              "\n",
              "      <script>\n",
              "        const buttonEl =\n",
              "          document.querySelector('#df-59b33e14-da4a-45d6-8947-00765e24f0fe button.colab-df-convert');\n",
              "        buttonEl.style.display =\n",
              "          google.colab.kernel.accessAllowed ? 'block' : 'none';\n",
              "\n",
              "        async function convertToInteractive(key) {\n",
              "          const element = document.querySelector('#df-59b33e14-da4a-45d6-8947-00765e24f0fe');\n",
              "          const dataTable =\n",
              "            await google.colab.kernel.invokeFunction('convertToInteractive',\n",
              "                                                     [key], {});\n",
              "          if (!dataTable) return;\n",
              "\n",
              "          const docLinkHtml = 'Like what you see? Visit the ' +\n",
              "            '<a target=\"_blank\" href=https://colab.research.google.com/notebooks/data_table.ipynb>data table notebook</a>'\n",
              "            + ' to learn more about interactive tables.';\n",
              "          element.innerHTML = '';\n",
              "          dataTable['output_type'] = 'display_data';\n",
              "          await google.colab.output.renderOutput(dataTable, element);\n",
              "          const docLink = document.createElement('div');\n",
              "          docLink.innerHTML = docLinkHtml;\n",
              "          element.appendChild(docLink);\n",
              "        }\n",
              "      </script>\n",
              "    </div>\n",
              "  </div>\n",
              "  "
            ]
          },
          "metadata": {},
          "execution_count": 21
        }
      ]
    },
    {
      "cell_type": "markdown",
      "source": [
        "#<font color='red'> **Data Summery of dataset 2**"
      ],
      "metadata": {
        "id": "MP6hndKNPyOl"
      }
    },
    {
      "cell_type": "markdown",
      "source": [
        "1.Change data type of columns"
      ],
      "metadata": {
        "id": "cEpMHJ0aOKxj"
      }
    },
    {
      "cell_type": "code",
      "source": [
        "#get information\n",
        "df2.info()"
      ],
      "metadata": {
        "id": "FDsaVnqjFPFV",
        "colab": {
          "base_uri": "https://localhost:8080/"
        },
        "outputId": "add82595-14f7-4044-e2db-738250cb5764"
      },
      "execution_count": null,
      "outputs": [
        {
          "output_type": "stream",
          "name": "stdout",
          "text": [
            "<class 'pandas.core.frame.DataFrame'>\n",
            "RangeIndex: 64295 entries, 0 to 64294\n",
            "Data columns (total 5 columns):\n",
            " #   Column                  Non-Null Count  Dtype  \n",
            "---  ------                  --------------  -----  \n",
            " 0   App                     64295 non-null  object \n",
            " 1   Translated_Review       37427 non-null  object \n",
            " 2   Sentiment               37432 non-null  object \n",
            " 3   Sentiment_Polarity      37432 non-null  float64\n",
            " 4   Sentiment_Subjectivity  37432 non-null  float64\n",
            "dtypes: float64(2), object(3)\n",
            "memory usage: 2.5+ MB\n"
          ]
        }
      ]
    },
    {
      "cell_type": "code",
      "source": [
        "#Sentiment column\n",
        "df2[\"Sentiment\"]=df2['Sentiment'].map({\"Positive\":1,\"Neutral\":2,\"Negative\":0})"
      ],
      "metadata": {
        "id": "OHc7vU1BNBBi"
      },
      "execution_count": null,
      "outputs": []
    },
    {
      "cell_type": "markdown",
      "source": [
        "2.Find out Numerical and categorical feature and according to that we can analyse the data."
      ],
      "metadata": {
        "id": "0GASqIosV-VQ"
      }
    },
    {
      "cell_type": "code",
      "source": [
        "#numerical features in dataset 2\n",
        "numerical_features2=[feature for feature in df2.columns if df2[feature].dtype !=\"O\"]\n",
        "numerical_features2"
      ],
      "metadata": {
        "colab": {
          "base_uri": "https://localhost:8080/"
        },
        "id": "O2vWEv-_V9rD",
        "outputId": "168e0310-9ad8-405c-981e-ecdb0d1a0d2f"
      },
      "execution_count": null,
      "outputs": [
        {
          "output_type": "execute_result",
          "data": {
            "text/plain": [
              "['Sentiment', 'Sentiment_Polarity', 'Sentiment_Subjectivity']"
            ]
          },
          "metadata": {},
          "execution_count": 24
        }
      ]
    },
    {
      "cell_type": "markdown",
      "source": [
        "a)Discrete "
      ],
      "metadata": {
        "id": "iCTxDV_MWUtw"
      }
    },
    {
      "cell_type": "code",
      "source": [
        "#discrete numerical features in dataset 2\n",
        "dec_features2=[feature for feature in numerical_features2 if len(df2[feature].unique())<10]\n",
        "dec_features2"
      ],
      "metadata": {
        "colab": {
          "base_uri": "https://localhost:8080/"
        },
        "id": "3PHb0FiOWMtV",
        "outputId": "6afb0304-3d51-44f6-ecd5-b171abee8434"
      },
      "execution_count": null,
      "outputs": [
        {
          "output_type": "execute_result",
          "data": {
            "text/plain": [
              "['Sentiment']"
            ]
          },
          "metadata": {},
          "execution_count": 25
        }
      ]
    },
    {
      "cell_type": "markdown",
      "source": [
        "b)Continuous"
      ],
      "metadata": {
        "id": "6Pgl0HmKWa4z"
      }
    },
    {
      "cell_type": "code",
      "source": [
        "#continuous numerical features in dataset 2\n",
        "con_features2=[feature for feature in numerical_features2 if feature not in dec_features2]\n",
        "con_features2"
      ],
      "metadata": {
        "colab": {
          "base_uri": "https://localhost:8080/"
        },
        "id": "4R3WfdhtWNML",
        "outputId": "4d8637a2-ed28-47ad-f785-a97e60acada1"
      },
      "execution_count": null,
      "outputs": [
        {
          "output_type": "execute_result",
          "data": {
            "text/plain": [
              "['Sentiment_Polarity', 'Sentiment_Subjectivity']"
            ]
          },
          "metadata": {},
          "execution_count": 26
        }
      ]
    },
    {
      "cell_type": "markdown",
      "source": [
        "c)Categorical"
      ],
      "metadata": {
        "id": "UYJs15nZWfXC"
      }
    },
    {
      "cell_type": "code",
      "source": [
        "#Categorical numerical features in dataset 2\n",
        "catg_features2=[feature for feature in df2.columns if df2[feature].dtype ==\"O\"]\n",
        "catg_features2"
      ],
      "metadata": {
        "colab": {
          "base_uri": "https://localhost:8080/"
        },
        "id": "iNUL9kbpWQ-M",
        "outputId": "640e37e4-e19a-415c-c3d7-95b93c06d1c2"
      },
      "execution_count": null,
      "outputs": [
        {
          "output_type": "execute_result",
          "data": {
            "text/plain": [
              "['App', 'Translated_Review']"
            ]
          },
          "metadata": {},
          "execution_count": 27
        }
      ]
    },
    {
      "cell_type": "markdown",
      "source": [
        "3.Deals with missing values of dataset 2"
      ],
      "metadata": {
        "id": "4bb-H9-ROPQT"
      }
    },
    {
      "cell_type": "code",
      "source": [
        "#find null values in each column\n",
        "df2.isnull().sum()    "
      ],
      "metadata": {
        "colab": {
          "base_uri": "https://localhost:8080/"
        },
        "id": "8HJNtZfKPuj5",
        "outputId": "d72b16db-9548-42b4-c135-4e04ccf37173"
      },
      "execution_count": null,
      "outputs": [
        {
          "output_type": "execute_result",
          "data": {
            "text/plain": [
              "App                           0\n",
              "Translated_Review         26868\n",
              "Sentiment                 26863\n",
              "Sentiment_Polarity        26863\n",
              "Sentiment_Subjectivity    26863\n",
              "dtype: int64"
            ]
          },
          "metadata": {},
          "execution_count": 28
        }
      ]
    },
    {
      "cell_type": "code",
      "source": [
        "#dropping all null values rows\n",
        "df2.dropna(inplace=True)"
      ],
      "metadata": {
        "id": "MZSAFi6iOU_y"
      },
      "execution_count": null,
      "outputs": []
    },
    {
      "cell_type": "code",
      "source": [
        "#final dataset number 2\n",
        "df2_final=df2.copy()"
      ],
      "metadata": {
        "id": "FOlYLZ4DPXxz"
      },
      "execution_count": null,
      "outputs": []
    },
    {
      "cell_type": "code",
      "source": [
        "#null value rows after dropping\n",
        "df2_final.isnull().any()    "
      ],
      "metadata": {
        "id": "J8SPODtfGKB5",
        "colab": {
          "base_uri": "https://localhost:8080/"
        },
        "outputId": "9eb34ec6-7f19-4030-8f24-4dd63ca47612"
      },
      "execution_count": null,
      "outputs": [
        {
          "output_type": "execute_result",
          "data": {
            "text/plain": [
              "App                       False\n",
              "Translated_Review         False\n",
              "Sentiment                 False\n",
              "Sentiment_Polarity        False\n",
              "Sentiment_Subjectivity    False\n",
              "dtype: bool"
            ]
          },
          "metadata": {},
          "execution_count": 31
        }
      ]
    },
    {
      "cell_type": "code",
      "source": [
        "#final dataset 2\n",
        "df2_final.head()"
      ],
      "metadata": {
        "colab": {
          "base_uri": "https://localhost:8080/",
          "height": 206
        },
        "id": "3ill14UPO8Uc",
        "outputId": "ffe47862-34c3-4d4d-9b2d-858b912de620"
      },
      "execution_count": null,
      "outputs": [
        {
          "output_type": "execute_result",
          "data": {
            "text/plain": [
              "                     App                                  Translated_Review  \\\n",
              "0  10 Best Foods for You  I like eat delicious food. That's I'm cooking ...   \n",
              "1  10 Best Foods for You    This help eating healthy exercise regular basis   \n",
              "3  10 Best Foods for You         Works great especially going grocery store   \n",
              "4  10 Best Foods for You                                       Best idea us   \n",
              "5  10 Best Foods for You                                           Best way   \n",
              "\n",
              "   Sentiment  Sentiment_Polarity  Sentiment_Subjectivity  \n",
              "0        1.0                1.00                0.533333  \n",
              "1        1.0                0.25                0.288462  \n",
              "3        1.0                0.40                0.875000  \n",
              "4        1.0                1.00                0.300000  \n",
              "5        1.0                1.00                0.300000  "
            ],
            "text/html": [
              "\n",
              "  <div id=\"df-e7bcedfb-4ba8-429c-b3b5-b532baff6635\">\n",
              "    <div class=\"colab-df-container\">\n",
              "      <div>\n",
              "<style scoped>\n",
              "    .dataframe tbody tr th:only-of-type {\n",
              "        vertical-align: middle;\n",
              "    }\n",
              "\n",
              "    .dataframe tbody tr th {\n",
              "        vertical-align: top;\n",
              "    }\n",
              "\n",
              "    .dataframe thead th {\n",
              "        text-align: right;\n",
              "    }\n",
              "</style>\n",
              "<table border=\"1\" class=\"dataframe\">\n",
              "  <thead>\n",
              "    <tr style=\"text-align: right;\">\n",
              "      <th></th>\n",
              "      <th>App</th>\n",
              "      <th>Translated_Review</th>\n",
              "      <th>Sentiment</th>\n",
              "      <th>Sentiment_Polarity</th>\n",
              "      <th>Sentiment_Subjectivity</th>\n",
              "    </tr>\n",
              "  </thead>\n",
              "  <tbody>\n",
              "    <tr>\n",
              "      <th>0</th>\n",
              "      <td>10 Best Foods for You</td>\n",
              "      <td>I like eat delicious food. That's I'm cooking ...</td>\n",
              "      <td>1.0</td>\n",
              "      <td>1.00</td>\n",
              "      <td>0.533333</td>\n",
              "    </tr>\n",
              "    <tr>\n",
              "      <th>1</th>\n",
              "      <td>10 Best Foods for You</td>\n",
              "      <td>This help eating healthy exercise regular basis</td>\n",
              "      <td>1.0</td>\n",
              "      <td>0.25</td>\n",
              "      <td>0.288462</td>\n",
              "    </tr>\n",
              "    <tr>\n",
              "      <th>3</th>\n",
              "      <td>10 Best Foods for You</td>\n",
              "      <td>Works great especially going grocery store</td>\n",
              "      <td>1.0</td>\n",
              "      <td>0.40</td>\n",
              "      <td>0.875000</td>\n",
              "    </tr>\n",
              "    <tr>\n",
              "      <th>4</th>\n",
              "      <td>10 Best Foods for You</td>\n",
              "      <td>Best idea us</td>\n",
              "      <td>1.0</td>\n",
              "      <td>1.00</td>\n",
              "      <td>0.300000</td>\n",
              "    </tr>\n",
              "    <tr>\n",
              "      <th>5</th>\n",
              "      <td>10 Best Foods for You</td>\n",
              "      <td>Best way</td>\n",
              "      <td>1.0</td>\n",
              "      <td>1.00</td>\n",
              "      <td>0.300000</td>\n",
              "    </tr>\n",
              "  </tbody>\n",
              "</table>\n",
              "</div>\n",
              "      <button class=\"colab-df-convert\" onclick=\"convertToInteractive('df-e7bcedfb-4ba8-429c-b3b5-b532baff6635')\"\n",
              "              title=\"Convert this dataframe to an interactive table.\"\n",
              "              style=\"display:none;\">\n",
              "        \n",
              "  <svg xmlns=\"http://www.w3.org/2000/svg\" height=\"24px\"viewBox=\"0 0 24 24\"\n",
              "       width=\"24px\">\n",
              "    <path d=\"M0 0h24v24H0V0z\" fill=\"none\"/>\n",
              "    <path d=\"M18.56 5.44l.94 2.06.94-2.06 2.06-.94-2.06-.94-.94-2.06-.94 2.06-2.06.94zm-11 1L8.5 8.5l.94-2.06 2.06-.94-2.06-.94L8.5 2.5l-.94 2.06-2.06.94zm10 10l.94 2.06.94-2.06 2.06-.94-2.06-.94-.94-2.06-.94 2.06-2.06.94z\"/><path d=\"M17.41 7.96l-1.37-1.37c-.4-.4-.92-.59-1.43-.59-.52 0-1.04.2-1.43.59L10.3 9.45l-7.72 7.72c-.78.78-.78 2.05 0 2.83L4 21.41c.39.39.9.59 1.41.59.51 0 1.02-.2 1.41-.59l7.78-7.78 2.81-2.81c.8-.78.8-2.07 0-2.86zM5.41 20L4 18.59l7.72-7.72 1.47 1.35L5.41 20z\"/>\n",
              "  </svg>\n",
              "      </button>\n",
              "      \n",
              "  <style>\n",
              "    .colab-df-container {\n",
              "      display:flex;\n",
              "      flex-wrap:wrap;\n",
              "      gap: 12px;\n",
              "    }\n",
              "\n",
              "    .colab-df-convert {\n",
              "      background-color: #E8F0FE;\n",
              "      border: none;\n",
              "      border-radius: 50%;\n",
              "      cursor: pointer;\n",
              "      display: none;\n",
              "      fill: #1967D2;\n",
              "      height: 32px;\n",
              "      padding: 0 0 0 0;\n",
              "      width: 32px;\n",
              "    }\n",
              "\n",
              "    .colab-df-convert:hover {\n",
              "      background-color: #E2EBFA;\n",
              "      box-shadow: 0px 1px 2px rgba(60, 64, 67, 0.3), 0px 1px 3px 1px rgba(60, 64, 67, 0.15);\n",
              "      fill: #174EA6;\n",
              "    }\n",
              "\n",
              "    [theme=dark] .colab-df-convert {\n",
              "      background-color: #3B4455;\n",
              "      fill: #D2E3FC;\n",
              "    }\n",
              "\n",
              "    [theme=dark] .colab-df-convert:hover {\n",
              "      background-color: #434B5C;\n",
              "      box-shadow: 0px 1px 3px 1px rgba(0, 0, 0, 0.15);\n",
              "      filter: drop-shadow(0px 1px 2px rgba(0, 0, 0, 0.3));\n",
              "      fill: #FFFFFF;\n",
              "    }\n",
              "  </style>\n",
              "\n",
              "      <script>\n",
              "        const buttonEl =\n",
              "          document.querySelector('#df-e7bcedfb-4ba8-429c-b3b5-b532baff6635 button.colab-df-convert');\n",
              "        buttonEl.style.display =\n",
              "          google.colab.kernel.accessAllowed ? 'block' : 'none';\n",
              "\n",
              "        async function convertToInteractive(key) {\n",
              "          const element = document.querySelector('#df-e7bcedfb-4ba8-429c-b3b5-b532baff6635');\n",
              "          const dataTable =\n",
              "            await google.colab.kernel.invokeFunction('convertToInteractive',\n",
              "                                                     [key], {});\n",
              "          if (!dataTable) return;\n",
              "\n",
              "          const docLinkHtml = 'Like what you see? Visit the ' +\n",
              "            '<a target=\"_blank\" href=https://colab.research.google.com/notebooks/data_table.ipynb>data table notebook</a>'\n",
              "            + ' to learn more about interactive tables.';\n",
              "          element.innerHTML = '';\n",
              "          dataTable['output_type'] = 'display_data';\n",
              "          await google.colab.output.renderOutput(dataTable, element);\n",
              "          const docLink = document.createElement('div');\n",
              "          docLink.innerHTML = docLinkHtml;\n",
              "          element.appendChild(docLink);\n",
              "        }\n",
              "      </script>\n",
              "    </div>\n",
              "  </div>\n",
              "  "
            ]
          },
          "metadata": {},
          "execution_count": 32
        }
      ]
    },
    {
      "cell_type": "code",
      "source": [
        "#size of final dataset 2\n",
        "df2_final.shape"
      ],
      "metadata": {
        "colab": {
          "base_uri": "https://localhost:8080/"
        },
        "id": "VGFHDHUIPiIb",
        "outputId": "cc6316d7-881c-4757-84a2-c3dabe8368c8"
      },
      "execution_count": null,
      "outputs": [
        {
          "output_type": "execute_result",
          "data": {
            "text/plain": [
              "(37427, 5)"
            ]
          },
          "metadata": {},
          "execution_count": 33
        }
      ]
    },
    {
      "cell_type": "markdown",
      "source": [
        "#<font color='red'> **Visualization**"
      ],
      "metadata": {
        "id": "5ZxqHtGKbaMq"
      }
    },
    {
      "cell_type": "markdown",
      "source": [
        "# For dataframe 1 : consider \"Rating\" in dependent variable which can be dependent on features like size,type,installa any other features."
      ],
      "metadata": {
        "id": "YymhV5FZRFrA"
      }
    },
    {
      "cell_type": "markdown",
      "source": [
        "1.Distribution of output"
      ],
      "metadata": {
        "id": "mNeWvuqiRkXf"
      }
    },
    {
      "cell_type": "code",
      "source": [
        "#to check distribution of output variable\n",
        "plt.figure(figsize=(12,8))\n",
        "sns.distplot(np.log(df1_final['Rating']),color=\"g\")\n",
        "plt.title(\"Rating Vs Density\")"
      ],
      "metadata": {
        "colab": {
          "base_uri": "https://localhost:8080/",
          "height": 530
        },
        "id": "x88VN_MlXPOn",
        "outputId": "48d19ae9-bf48-4521-ba77-bfff72e3bf8c"
      },
      "execution_count": null,
      "outputs": [
        {
          "output_type": "execute_result",
          "data": {
            "text/plain": [
              "Text(0.5, 1.0, 'Rating Vs Density')"
            ]
          },
          "metadata": {},
          "execution_count": 34
        },
        {
          "output_type": "display_data",
          "data": {
            "text/plain": [
              "<Figure size 864x576 with 1 Axes>"
            ],
            "image/png": "[encoded data removed]"
          },
          "metadata": {
            "needs_background": "light"
          }
        }
      ]
    },
    {
      "cell_type": "markdown",
      "source": [
        "**<<<<<<< We clearly seen that the disrtibution is not normal distibution >>>>>>>**"
      ],
      "metadata": {
        "id": "tvzGciA45GXP"
      }
    },
    {
      "cell_type": "markdown",
      "source": [
        "2.Correlation with each other."
      ],
      "metadata": {
        "id": "qcLVukzeXorQ"
      }
    },
    {
      "cell_type": "code",
      "source": [
        "#correlation\n",
        "corr_matrix=df1_final.corr()\n",
        "plt.figure(figsize=(10,10))\n",
        "sns.heatmap(corr_matrix,cbar=True,square=True,fmt=\".1f\",annot=True,annot_kws={\"size\":10}, cmap=\"Blues\")"
      ],
      "metadata": {
        "colab": {
          "base_uri": "https://localhost:8080/",
          "height": 646
        },
        "id": "pzhe2--dXwEy",
        "outputId": "540088fc-cd43-43c4-9e8f-fd538f0db770"
      },
      "execution_count": null,
      "outputs": [
        {
          "output_type": "execute_result",
          "data": {
            "text/plain": [
              "<matplotlib.axes._subplots.AxesSubplot at 0x7f7f54fde550>"
            ]
          },
          "metadata": {},
          "execution_count": 35
        },
        {
          "output_type": "display_data",
          "data": {
            "text/plain": [
              "<Figure size 720x720 with 2 Axes>"
            ],
            "image/png": "[encoded data removed]"
          },
          "metadata": {
            "needs_background": "light"
          }
        }
      ]
    },
    {
      "cell_type": "markdown",
      "source": [
        "**<<<<<<< There is no as such correlation with output variable \"Rating\" >>>>>>>>>>**"
      ],
      "metadata": {
        "id": "YX7wi8be6Ig9"
      }
    },
    {
      "cell_type": "markdown",
      "source": [
        "3.Behavior of data"
      ],
      "metadata": {
        "id": "-H1eVcZjYCGD"
      }
    },
    {
      "cell_type": "code",
      "source": [
        "#to check linearity of continous numerical features on the basis of Rating\n",
        "for i in con_features1:\n",
        "  if i!=\"Rating\":\n",
        "    plt.figure(figsize=(12,8))\n",
        "    sns.scatterplot(df1_final[i],df1_final[\"Rating\"],hue=\"Rating\",data=df1_final)\n",
        "    plt.xlabel(i)\n",
        "    plt.title(i+\" Vs\"+\" Rating\")\n",
        "    plt.show()"
      ],
      "metadata": {
        "colab": {
          "base_uri": "https://localhost:8080/",
          "height": 1000
        },
        "id": "2dCX5k1sYTHV",
        "outputId": "8d4c63db-0f3c-4fc2-f0f6-46ee64d98015"
      },
      "execution_count": null,
      "outputs": [
        {
          "output_type": "display_data",
          "data": {
            "text/plain": [
              "<Figure size 864x576 with 1 Axes>"
            ],
            "image/png": "[encoded data removed]"
          },
          "metadata": {
            "needs_background": "light"
          }
        },
        {
          "output_type": "display_data",
          "data": {
            "text/plain": [
              "<Figure size 864x576 with 1 Axes>"
            ],
            "image/png": "[encoded data removed]"
          },
          "metadata": {
            "needs_background": "light"
          }
        },
        {
          "output_type": "display_data",
          "data": {
            "text/plain": [
              "<Figure size 864x576 with 1 Axes>"
            ],
            "image/png": "[encoded data removed]"
          },
          "metadata": {
            "needs_background": "light"
          }
        }
      ]
    },
    {
      "cell_type": "markdown",
      "source": [
        "**<<<<<< Non linear dataset >>>>>>>**"
      ],
      "metadata": {
        "id": "F3HdCdKo7WnL"
      }
    },
    {
      "cell_type": "markdown",
      "source": [
        "4.Distribution of descreate variables"
      ],
      "metadata": {
        "id": "DF0bwrCRYyZd"
      }
    },
    {
      "cell_type": "code",
      "source": [
        "#Distribution of descreate variables\n",
        "for i in dec_features1:\n",
        "  plt.figure(figsize=(16,8))\n",
        "  sns.distplot(df1_final[i],color=\"b\")\n",
        "  plt.title(i+\" Vs\"+\" Density \"+i)\n",
        "  plt.show()"
      ],
      "metadata": {
        "colab": {
          "base_uri": "https://localhost:8080/",
          "height": 1000
        },
        "id": "NcfC7_WoY_2g",
        "outputId": "dbcb0953-b265-4b84-c5d6-677ee33c9fce"
      },
      "execution_count": null,
      "outputs": [
        {
          "output_type": "display_data",
          "data": {
            "text/plain": [
              "<Figure size 1152x576 with 1 Axes>"
            ],
            "image/png": "[encoded data removed]"
          },
          "metadata": {
            "needs_background": "light"
          }
        },
        {
          "output_type": "display_data",
          "data": {
            "text/plain": [
              "<Figure size 1152x576 with 1 Axes>"
            ],
            "image/png": "[encoded data removed]"
          },
          "metadata": {
            "needs_background": "light"
          }
        },
        {
          "output_type": "display_data",
          "data": {
            "text/plain": [
              "<Figure size 1152x576 with 1 Axes>"
            ],
            "image/png": "[encoded data removed]"
          },
          "metadata": {
            "needs_background": "light"
          }
        }
      ]
    },
    {
      "cell_type": "markdown",
      "source": [
        "**<<<<< We clearly seen that dataset is not balanced >>>>>>>>**"
      ],
      "metadata": {
        "id": "WhDRrMgH-pHL"
      }
    },
    {
      "cell_type": "markdown",
      "source": [
        "5.Distribution of continuous variables"
      ],
      "metadata": {
        "id": "F84XjzE1Zn-Q"
      }
    },
    {
      "cell_type": "code",
      "source": [
        "#Distribution of continuous variables\n",
        "for i in con_features1:\n",
        "  plt.figure(figsize=(15,8))\n",
        "  sns.distplot(df1_final[i])\n",
        "  plt.title(i+\" Vs\"+\" Density of \"+i)\n",
        "  plt.show()"
      ],
      "metadata": {
        "colab": {
          "base_uri": "https://localhost:8080/",
          "height": 1000
        },
        "id": "CzS9dGS9ZmWS",
        "outputId": "fc893305-3996-486d-8d5b-0176d7d51661"
      },
      "execution_count": null,
      "outputs": [
        {
          "output_type": "display_data",
          "data": {
            "text/plain": [
              "<Figure size 1080x576 with 1 Axes>"
            ],
            "image/png": "[encoded data removed]"
          },
          "metadata": {
            "needs_background": "light"
          }
        },
        {
          "output_type": "display_data",
          "data": {
            "text/plain": [
              "<Figure size 1080x576 with 1 Axes>"
            ],
            "image/png": "[encoded data removed]"
          },
          "metadata": {
            "needs_background": "light"
          }
        },
        {
          "output_type": "display_data",
          "data": {
            "text/plain": [
              "<Figure size 1080x576 with 1 Axes>"
            ],
            "image/png": "[encoded data removed]"
          },
          "metadata": {
            "needs_background": "light"
          }
        },
        {
          "output_type": "display_data",
          "data": {
            "text/plain": [
              "<Figure size 1080x576 with 1 Axes>"
            ],
            "image/png": "[encoded data removed]"
          },
          "metadata": {
            "needs_background": "light"
          }
        }
      ]
    },
    {
      "cell_type": "markdown",
      "source": [
        "**<<<<< We clearly seen that dataset is not balanced >>>>>>>>**"
      ],
      "metadata": {
        "id": "RdUVolXG-3to"
      }
    },
    {
      "cell_type": "markdown",
      "source": [
        "# For dataset 2 : \"Sentiment\" is label variable and it is depend upon \"Sentiment_Polarity\" and \"Sentiment_Subjectivity\""
      ],
      "metadata": {
        "id": "taNz8EUOaP4z"
      }
    },
    {
      "cell_type": "markdown",
      "source": [
        "1.Distribution of output variable"
      ],
      "metadata": {
        "id": "abEAXjpYa5VZ"
      }
    },
    {
      "cell_type": "code",
      "source": [
        "#density plot of output variable \"Sentiment\"\n",
        "plt.figure(figsize=(12,8))\n",
        "sns.distplot(df2_final['Sentiment'],color=\"r\")\n",
        "plt.title(\"Sentiment Vs Density of sentiment\")"
      ],
      "metadata": {
        "colab": {
          "base_uri": "https://localhost:8080/",
          "height": 530
        },
        "id": "jBCspteVbACc",
        "outputId": "0126f55c-c4dd-47c8-95b6-21bc32d23685"
      },
      "execution_count": null,
      "outputs": [
        {
          "output_type": "execute_result",
          "data": {
            "text/plain": [
              "Text(0.5, 1.0, 'Sentiment Vs Density of sentiment')"
            ]
          },
          "metadata": {},
          "execution_count": 39
        },
        {
          "output_type": "display_data",
          "data": {
            "text/plain": [
              "<Figure size 864x576 with 1 Axes>"
            ],
            "image/png": "[encoded data removed]"
          },
          "metadata": {
            "needs_background": "light"
          }
        }
      ]
    },
    {
      "cell_type": "markdown",
      "source": [
        "**<<<<< Imbalanced dataset 2 >>>>>>>>**"
      ],
      "metadata": {
        "id": "evDAanUe-6uI"
      }
    },
    {
      "cell_type": "markdown",
      "source": [
        "2.Correlation"
      ],
      "metadata": {
        "id": "alfsgE9xboKZ"
      }
    },
    {
      "cell_type": "code",
      "source": [
        "#correlation with all columns\n",
        "correalation1=df2_final.corr()\n",
        "plt.figure(figsize=(10,10))\n",
        "sns.heatmap(correalation1,cbar=True,square=True,fmt=\".1f\",annot=True,annot_kws={\"size\":10}, cmap=\"OrRd_r\")"
      ],
      "metadata": {
        "colab": {
          "base_uri": "https://localhost:8080/",
          "height": 595
        },
        "id": "WHp5p1Skbnme",
        "outputId": "92b530d1-0a17-4195-f3a1-f89a58e30f4f"
      },
      "execution_count": null,
      "outputs": [
        {
          "output_type": "execute_result",
          "data": {
            "text/plain": [
              "<matplotlib.axes._subplots.AxesSubplot at 0x7f7f5221ca10>"
            ]
          },
          "metadata": {},
          "execution_count": 40
        },
        {
          "output_type": "display_data",
          "data": {
            "text/plain": [
              "<Figure size 720x720 with 2 Axes>"
            ],
            "image/png": "[encoded data removed]"
          },
          "metadata": {
            "needs_background": "light"
          }
        }
      ]
    },
    {
      "cell_type": "markdown",
      "source": [
        "**<<<<<< Very less correlation values >>>>>**"
      ],
      "metadata": {
        "id": "WclcQW8U_4ph"
      }
    },
    {
      "cell_type": "markdown",
      "source": [
        "3.Distribution of continuous variables"
      ],
      "metadata": {
        "id": "2maisPuxb-4o"
      }
    },
    {
      "cell_type": "code",
      "source": [
        "#Distribution of continuous variables\n",
        "for i in con_features2:\n",
        "  plt.figure(figsize=(12,8))\n",
        "  sns.distplot(df2_final[i],color=\"c\")\n",
        "  plt.title(i+\" Vs\"+\" Density of \"+i)\n",
        "  plt.show()"
      ],
      "metadata": {
        "colab": {
          "base_uri": "https://localhost:8080/",
          "height": 1000
        },
        "id": "SXSj0Y1FcO6z",
        "outputId": "c4fb2796-8b02-4d98-a508-4f80f370274f"
      },
      "execution_count": null,
      "outputs": [
        {
          "output_type": "display_data",
          "data": {
            "text/plain": [
              "<Figure size 864x576 with 1 Axes>"
            ],
            "image/png": "[encoded data removed]"
          },
          "metadata": {
            "needs_background": "light"
          }
        },
        {
          "output_type": "display_data",
          "data": {
            "text/plain": [
              "<Figure size 864x576 with 1 Axes>"
            ],
            "image/png": "[encoded data removed]"
          },
          "metadata": {
            "needs_background": "light"
          }
        }
      ]
    },
    {
      "cell_type": "markdown",
      "source": [
        "#<font color='red'> **Other Visualization**"
      ],
      "metadata": {
        "id": "TtJnJe_CdZsO"
      }
    },
    {
      "cell_type": "markdown",
      "source": [
        "**1.To find percentage of \"Free\" and \"Paid\" applications.**"
      ],
      "metadata": {
        "id": "ZXrkOWsjbd3a"
      }
    },
    {
      "cell_type": "code",
      "source": [
        "#find count of free and paid applications\n",
        "app_type=df1_final.groupby(\"Type\")[\"Type\"].count()    "
      ],
      "metadata": {
        "id": "qphmWk8haTQ4"
      },
      "execution_count": null,
      "outputs": []
    },
    {
      "cell_type": "code",
      "source": [
        "plt.figure(figsize=(6,6))\n",
        "plt.pie(app_type,radius=1.8,labels=['Free','paid'],autopct=\"%.0f%%\",shadow=True,explode=[0.0,0.2])"
      ],
      "metadata": {
        "colab": {
          "base_uri": "https://localhost:8080/",
          "height": 610
        },
        "id": "FQZrbfC_ajvu",
        "outputId": "083413b2-b47d-4e55-e51a-5349ed71ca42"
      },
      "execution_count": null,
      "outputs": [
        {
          "output_type": "execute_result",
          "data": {
            "text/plain": [
              "([<matplotlib.patches.Wedge at 0x7f7f52200210>,\n",
              "  <matplotlib.patches.Wedge at 0x7f7f52200c50>],\n",
              " [Text(-1.9335559752861393, 0.4263347164321331, 'Free'),\n",
              "  Text(2.1288646816326193, -0.4693987295437082, 'paid')],\n",
              " [Text(-1.0546668956106213, 0.23254620896298167, '93%'),\n",
              "  Text(1.2499755928852077, -0.2756102632183241, '7%')])"
            ]
          },
          "metadata": {},
          "execution_count": 43
        },
        {
          "output_type": "display_data",
          "data": {
            "text/plain": [
              "<Figure size 432x432 with 1 Axes>"
            ],
            "image/png": "[encoded data removed]"
          },
          "metadata": {}
        }
      ]
    },
    {
      "cell_type": "markdown",
      "source": [
        "**2.Analyse data to found which catagory is most popular on basis of number of applications are present on play store.**"
      ],
      "metadata": {
        "id": "2fmepBu3GT2t"
      }
    },
    {
      "cell_type": "code",
      "source": [
        "#Create group of Categories.\n",
        "category_count=df1_final.groupby(by=[\"Category\"])[\"Category\"].count()  \n",
        "dict_category=category_count.to_dict()\n",
        "\n",
        "#To plot graph Category vs Count of application. \n",
        "plt.figure(figsize=(22,7))\n",
        "plt.xticks(rotation=\"vertical\")\n",
        "plt.title(\"Popular Category\")\n",
        "plt.xlabel(\"Category\")\n",
        "plt.ylabel(\"Total Count\")\n",
        "c = sns.color_palette(\"Accent\")\n",
        "plt.bar(dict_category.keys(),dict_category.values(),color=c)"
      ],
      "metadata": {
        "id": "PbCEYic8GAns",
        "colab": {
          "base_uri": "https://localhost:8080/",
          "height": 591
        },
        "outputId": "24c36a2b-18f3-4018-c027-29c8a46b4e23"
      },
      "execution_count": null,
      "outputs": [
        {
          "output_type": "execute_result",
          "data": {
            "text/plain": [
              "<BarContainer object of 33 artists>"
            ]
          },
          "metadata": {},
          "execution_count": 44
        },
        {
          "output_type": "display_data",
          "data": {
            "text/plain": [
              "<Figure size 1584x504 with 1 Axes>"
            ],
            "image/png": "[encoded data removed]"
          },
          "metadata": {
            "needs_background": "light"
          }
        }
      ]
    },
    {
      "cell_type": "markdown",
      "source": [
        "**3.To find popular Application on the basis of installs.**\n"
      ],
      "metadata": {
        "id": "3qoX-6x9R9VL"
      }
    },
    {
      "cell_type": "code",
      "source": [
        "#Create group of app names by \"App\" column\n",
        "apk_count=df1_final.groupby(by=['App'])['Installs'].mean()\n",
        "apk_count=pd.DataFrame(apk_count)\n",
        "apk_count.sort_values(\"Installs\", axis = 0, ascending= False,inplace = True, na_position ='last') #sorting\n",
        "Top_25_Installs=apk_count.head(25)"
      ],
      "metadata": {
        "id": "9sOl6BAIhFKM"
      },
      "execution_count": null,
      "outputs": []
    },
    {
      "cell_type": "code",
      "source": [
        "Top_25_Installs.head()"
      ],
      "metadata": {
        "colab": {
          "base_uri": "https://localhost:8080/",
          "height": 238
        },
        "id": "jJy0WCKFs-cm",
        "outputId": "fb52fb78-9887-4a91-a8a0-e1c60536eeef"
      },
      "execution_count": null,
      "outputs": [
        {
          "output_type": "execute_result",
          "data": {
            "text/plain": [
              "                               Installs\n",
              "App                                    \n",
              "Maps - Navigate & Explore  1.000000e+09\n",
              "Hangouts                   1.000000e+09\n",
              "Google Play Books          1.000000e+09\n",
              "Google Play Games          1.000000e+09\n",
              "Google Play Movies & TV    1.000000e+09"
            ],
            "text/html": [
              "\n",
              "  <div id=\"df-c105cbf3-cb39-4841-bee4-9aa999f58d20\">\n",
              "    <div class=\"colab-df-container\">\n",
              "      <div>\n",
              "<style scoped>\n",
              "    .dataframe tbody tr th:only-of-type {\n",
              "        vertical-align: middle;\n",
              "    }\n",
              "\n",
              "    .dataframe tbody tr th {\n",
              "        vertical-align: top;\n",
              "    }\n",
              "\n",
              "    .dataframe thead th {\n",
              "        text-align: right;\n",
              "    }\n",
              "</style>\n",
              "<table border=\"1\" class=\"dataframe\">\n",
              "  <thead>\n",
              "    <tr style=\"text-align: right;\">\n",
              "      <th></th>\n",
              "      <th>Installs</th>\n",
              "    </tr>\n",
              "    <tr>\n",
              "      <th>App</th>\n",
              "      <th></th>\n",
              "    </tr>\n",
              "  </thead>\n",
              "  <tbody>\n",
              "    <tr>\n",
              "      <th>Maps - Navigate &amp; Explore</th>\n",
              "      <td>1.000000e+09</td>\n",
              "    </tr>\n",
              "    <tr>\n",
              "      <th>Hangouts</th>\n",
              "      <td>1.000000e+09</td>\n",
              "    </tr>\n",
              "    <tr>\n",
              "      <th>Google Play Books</th>\n",
              "      <td>1.000000e+09</td>\n",
              "    </tr>\n",
              "    <tr>\n",
              "      <th>Google Play Games</th>\n",
              "      <td>1.000000e+09</td>\n",
              "    </tr>\n",
              "    <tr>\n",
              "      <th>Google Play Movies &amp; TV</th>\n",
              "      <td>1.000000e+09</td>\n",
              "    </tr>\n",
              "  </tbody>\n",
              "</table>\n",
              "</div>\n",
              "      <button class=\"colab-df-convert\" onclick=\"convertToInteractive('df-c105cbf3-cb39-4841-bee4-9aa999f58d20')\"\n",
              "              title=\"Convert this dataframe to an interactive table.\"\n",
              "              style=\"display:none;\">\n",
              "        \n",
              "  <svg xmlns=\"http://www.w3.org/2000/svg\" height=\"24px\"viewBox=\"0 0 24 24\"\n",
              "       width=\"24px\">\n",
              "    <path d=\"M0 0h24v24H0V0z\" fill=\"none\"/>\n",
              "    <path d=\"M18.56 5.44l.94 2.06.94-2.06 2.06-.94-2.06-.94-.94-2.06-.94 2.06-2.06.94zm-11 1L8.5 8.5l.94-2.06 2.06-.94-2.06-.94L8.5 2.5l-.94 2.06-2.06.94zm10 10l.94 2.06.94-2.06 2.06-.94-2.06-.94-.94-2.06-.94 2.06-2.06.94z\"/><path d=\"M17.41 7.96l-1.37-1.37c-.4-.4-.92-.59-1.43-.59-.52 0-1.04.2-1.43.59L10.3 9.45l-7.72 7.72c-.78.78-.78 2.05 0 2.83L4 21.41c.39.39.9.59 1.41.59.51 0 1.02-.2 1.41-.59l7.78-7.78 2.81-2.81c.8-.78.8-2.07 0-2.86zM5.41 20L4 18.59l7.72-7.72 1.47 1.35L5.41 20z\"/>\n",
              "  </svg>\n",
              "      </button>\n",
              "      \n",
              "  <style>\n",
              "    .colab-df-container {\n",
              "      display:flex;\n",
              "      flex-wrap:wrap;\n",
              "      gap: 12px;\n",
              "    }\n",
              "\n",
              "    .colab-df-convert {\n",
              "      background-color: #E8F0FE;\n",
              "      border: none;\n",
              "      border-radius: 50%;\n",
              "      cursor: pointer;\n",
              "      display: none;\n",
              "      fill: #1967D2;\n",
              "      height: 32px;\n",
              "      padding: 0 0 0 0;\n",
              "      width: 32px;\n",
              "    }\n",
              "\n",
              "    .colab-df-convert:hover {\n",
              "      background-color: #E2EBFA;\n",
              "      box-shadow: 0px 1px 2px rgba(60, 64, 67, 0.3), 0px 1px 3px 1px rgba(60, 64, 67, 0.15);\n",
              "      fill: #174EA6;\n",
              "    }\n",
              "\n",
              "    [theme=dark] .colab-df-convert {\n",
              "      background-color: #3B4455;\n",
              "      fill: #D2E3FC;\n",
              "    }\n",
              "\n",
              "    [theme=dark] .colab-df-convert:hover {\n",
              "      background-color: #434B5C;\n",
              "      box-shadow: 0px 1px 3px 1px rgba(0, 0, 0, 0.15);\n",
              "      filter: drop-shadow(0px 1px 2px rgba(0, 0, 0, 0.3));\n",
              "      fill: #FFFFFF;\n",
              "    }\n",
              "  </style>\n",
              "\n",
              "      <script>\n",
              "        const buttonEl =\n",
              "          document.querySelector('#df-c105cbf3-cb39-4841-bee4-9aa999f58d20 button.colab-df-convert');\n",
              "        buttonEl.style.display =\n",
              "          google.colab.kernel.accessAllowed ? 'block' : 'none';\n",
              "\n",
              "        async function convertToInteractive(key) {\n",
              "          const element = document.querySelector('#df-c105cbf3-cb39-4841-bee4-9aa999f58d20');\n",
              "          const dataTable =\n",
              "            await google.colab.kernel.invokeFunction('convertToInteractive',\n",
              "                                                     [key], {});\n",
              "          if (!dataTable) return;\n",
              "\n",
              "          const docLinkHtml = 'Like what you see? Visit the ' +\n",
              "            '<a target=\"_blank\" href=https://colab.research.google.com/notebooks/data_table.ipynb>data table notebook</a>'\n",
              "            + ' to learn more about interactive tables.';\n",
              "          element.innerHTML = '';\n",
              "          dataTable['output_type'] = 'display_data';\n",
              "          await google.colab.output.renderOutput(dataTable, element);\n",
              "          const docLink = document.createElement('div');\n",
              "          docLink.innerHTML = docLinkHtml;\n",
              "          element.appendChild(docLink);\n",
              "        }\n",
              "      </script>\n",
              "    </div>\n",
              "  </div>\n",
              "  "
            ]
          },
          "metadata": {},
          "execution_count": 46
        }
      ]
    },
    {
      "cell_type": "code",
      "source": [
        "#Plot bar graph(Top 25 App vs Installs)\n",
        "c = sns.color_palette(\"Spectral\")\n",
        "Top_25_Installs.plot.bar(color=c,figsize=(18,5))\n",
        "plt.xticks(rotation=\"vertical\")\n",
        "plt.title(\"Top 25 App vs Installs\")\n",
        "plt.xlabel(\"Top 25 app\")\n",
        "plt.ylabel(\"Installs\")"
      ],
      "metadata": {
        "id": "A0gUHRC0C4ja",
        "colab": {
          "base_uri": "https://localhost:8080/",
          "height": 563
        },
        "outputId": "1ff1f627-2bda-45b5-b873-ebb77211eaa0"
      },
      "execution_count": null,
      "outputs": [
        {
          "output_type": "execute_result",
          "data": {
            "text/plain": [
              "Text(0, 0.5, 'Installs')"
            ]
          },
          "metadata": {},
          "execution_count": 47
        },
        {
          "output_type": "display_data",
          "data": {
            "text/plain": [
              "<Figure size 1296x360 with 1 Axes>"
            ],
            "image/png": "[encoded data removed]"
          },
          "metadata": {
            "needs_background": "light"
          }
        }
      ]
    },
    {
      "cell_type": "markdown",
      "source": [
        "**4.Find reviews of the perticular application**"
      ],
      "metadata": {
        "id": "fxZMwYWJy0Mk"
      }
    },
    {
      "cell_type": "code",
      "source": [
        "#To make lists of Apps and Reviews\n",
        "list_apps=list(df2['App'])\n",
        "list_reviews=list(df2['Translated_Review'])\n",
        "Dict_apps_reviews={}\n",
        "for key,value in zip(list_apps,list_reviews):  #gather all duplicate app names\n",
        "  if key not in Dict_apps_reviews:\n",
        "    Dict_apps_reviews[key]=[value]\n",
        "  else:\n",
        "    Dict_apps_reviews[key].append(value)\n"
      ],
      "metadata": {
        "id": "VG7vbWWUfPxc"
      },
      "execution_count": null,
      "outputs": []
    },
    {
      "cell_type": "code",
      "source": [
        "#User Defind Function\n",
        "def App(x):\n",
        "  for k,v in Dict_apps_reviews.items():\n",
        "    if k==x:\n",
        "      return v"
      ],
      "metadata": {
        "id": "aELFBRBuwKDS"
      },
      "execution_count": null,
      "outputs": []
    },
    {
      "cell_type": "code",
      "source": [
        "App(\"Hot Wheels: Race Off\")  #<<<<<<<<<<<Here you can give name of application which have to find reviews."
      ],
      "metadata": {
        "id": "TIDZcW_ctOTV",
        "colab": {
          "base_uri": "https://localhost:8080/"
        },
        "outputId": "9e892930-16f5-4b17-c909-b3c5a4a219b5"
      },
      "execution_count": null,
      "outputs": [
        {
          "output_type": "execute_result",
          "data": {
            "text/plain": [
              "['The cars get top hill, flip backwards try. Run gas, explode. Same bit track 20 50 times? To get full upgrades, get new car start over. Does sound good? They want pay pay pay upgrades. Otherwise frustrating boring!',\n",
              " 'Game buggy, hangs driving, race hit arrow nothing happens, way many ads even pay. So many ads kids game I would let kids play',\n",
              " 'Very fun . u jump ,you balance vehicle keep flipping hood blowing up. You also flip mid air landing....cool',\n",
              " 'It looks great, many levels, plays great tracks start repeat majority elements vehicle unlock suitable level tracks. Probably l2p moment failed much I uninstalled.',\n",
              " \"My son crazy game. Just problem. It's third time I uninstall game reinstall. When starting game keeps loading pass first screen even I downloaded update. Please help! Frustrated unhappy.\",\n",
              " \"Awesome game.super cool graphics. Only problem track can't beat track current vehicle currently upgraded fully\",\n",
              " \"It's fun try take money. It's unrealistic many moguls. There high speed flow. The physics graphics good though.\",\n",
              " \"It awesome game however I've got 1 star go getting 180 stars thers supercharged 24 what's wrong speed layers supercharged got edge till full speed like supercharged 24 bullet proof cars. Other 5 stars time\",\n",
              " \"Last update screwed man !!! On daily challenge lossing can't get menu resets ! So play win get menu cheet.also two cars get stuck track . please fix .\",\n",
              " 'Some bugs fixes tested like Audio music stops between, Game freezes moment. Overall Game interesting play..',\n",
              " 'I much enjoyed game latest update daily challenges become unbeatable I since highly infuriating I good game',\n",
              " 'Make set 7 classical cars like Chevrolet belair name CHOOSER real cool please make set 25 level triple loops',\n",
              " 'Been playing 6 months, changed phones get start over. One games I loaded I old phone.',\n",
              " 'This far addicting game I ever played! I could play hours without realizing it!',\n",
              " 'I keep uninstall reinstall load past intro screen. Annoying!',\n",
              " 'The game substance good I think anyone attracted game Hutch add scan function scan hot wheels',\n",
              " \"It's boring adults difficult kids. Plus ads notoriously hard close. You play stupid mini game ad. I end force closing app.\",\n",
              " 'Not apparent advance next track, fun.',\n",
              " \"It's really good game good cheer little I give 5 star rating\",\n",
              " 'The game frustrating cars go track, even upgrade cars keep flipping, controls horrible.']"
            ]
          },
          "metadata": {},
          "execution_count": 50
        }
      ]
    },
    {
      "cell_type": "markdown",
      "source": [
        "**5.To analyes which category is most popular on the basis of Rating**"
      ],
      "metadata": {
        "id": "Z1gN-1tlkeHj"
      }
    },
    {
      "cell_type": "code",
      "source": [
        "avg_rating=df1_final.copy(deep=True) #To copy dataframe\n",
        "avg_rating.dropna(subset = ['Rating'],inplace=True) #Delete rows which contains \"NaN\" values.\n",
        "\n",
        "#Plot \"Category Vs Average Rating\"\n",
        "mean_df = df1_final.groupby(by=['Category'])['Rating'].mean()\n",
        "mean_df.plot.bar(color=\"orange\",figsize=(18,5))\n",
        "plt.xticks(rotation=\"vertical\")\n",
        "plt.title(\"Category Vs Average Rating\")\n",
        "plt.xlabel(\"Category\")\n",
        "plt.ylabel(\"Average rating\")"
      ],
      "metadata": {
        "id": "vEoj5liUkc8Q",
        "colab": {
          "base_uri": "https://localhost:8080/",
          "height": 483
        },
        "outputId": "9b6cb766-903c-4a88-ee9e-3d90a9cba718"
      },
      "execution_count": null,
      "outputs": [
        {
          "output_type": "execute_result",
          "data": {
            "text/plain": [
              "Text(0, 0.5, 'Average rating')"
            ]
          },
          "metadata": {},
          "execution_count": 51
        },
        {
          "output_type": "display_data",
          "data": {
            "text/plain": [
              "<Figure size 1296x360 with 1 Axes>"
            ],
            "image/png": "[encoded data removed]"
          },
          "metadata": {
            "needs_background": "light"
          }
        }
      ]
    },
    {
      "cell_type": "markdown",
      "source": [
        "**6.To analyes type of applications basis of content ratings**"
      ],
      "metadata": {
        "id": "6eMUnyunB4zN"
      }
    },
    {
      "cell_type": "code",
      "source": [
        "#create dataframe with groupby content rating\n",
        "cont_df = df1.groupby(by=['Content Rating'])['Content Rating'].count()\n",
        "plt.figure(figsize=(20,10))\n",
        "\n",
        "#plot line graph of content rating vs count\n",
        "plt.xticks(rotation=45)\n",
        "plt.title(\"Content Rating vs Mean of content rating applications\")\n",
        "plt.xlabel(\"Content Rating\")\n",
        "plt.ylabel(\"Mean of content rating applications\")\n",
        "cont_df.plot(x=\"Content_rating\", y=\"rating_mean\", kind=\"line\",color=\"red\",marker=\"o\")\n",
        "plt.legend()"
      ],
      "metadata": {
        "id": "2xeljI45bNaf",
        "colab": {
          "base_uri": "https://localhost:8080/",
          "height": 638
        },
        "outputId": "479cd444-7891-48e8-8c3c-08599ca7f990"
      },
      "execution_count": null,
      "outputs": [
        {
          "output_type": "execute_result",
          "data": {
            "text/plain": [
              "<matplotlib.legend.Legend at 0x7f7f5193ddd0>"
            ]
          },
          "metadata": {},
          "execution_count": 52
        },
        {
          "output_type": "display_data",
          "data": {
            "text/plain": [
              "<Figure size 1440x720 with 1 Axes>"
            ],
            "image/png": "[encoded data removed]"
          },
          "metadata": {
            "needs_background": "light"
          }
        }
      ]
    },
    {
      "cell_type": "markdown",
      "source": [
        "**Everyone:0**\n",
        "\n",
        "**Teen:1**\n",
        "\n",
        "**Mature 17+:2**\n",
        "\n",
        "**Everyone 10+:3**\n",
        "\n",
        "**Adults only 18+:4**\n",
        "\n",
        "**Unrated:5**"
      ],
      "metadata": {
        "id": "zHEiWdfZnCgi"
      }
    },
    {
      "cell_type": "markdown",
      "source": [
        "**7.Application have more number of positive reviews.**"
      ],
      "metadata": {
        "id": "ffwrk-rJcA2T"
      }
    },
    {
      "cell_type": "code",
      "source": [
        "#create new dataframe with dropping unwanted columns\n",
        "sentiment_df=df2_final.copy()\n",
        "sentiment_df=sentiment_df.drop(['Translated_Review','Sentiment_Polarity','Sentiment_Subjectivity'],axis=1)\n",
        "sentiment_df"
      ],
      "metadata": {
        "colab": {
          "base_uri": "https://localhost:8080/",
          "height": 424
        },
        "id": "KdOA-1YpcZAb",
        "outputId": "030404a0-b625-4b20-8923-79457194f0e6"
      },
      "execution_count": null,
      "outputs": [
        {
          "output_type": "execute_result",
          "data": {
            "text/plain": [
              "                                  App  Sentiment\n",
              "0               10 Best Foods for You        1.0\n",
              "1               10 Best Foods for You        1.0\n",
              "3               10 Best Foods for You        1.0\n",
              "4               10 Best Foods for You        1.0\n",
              "5               10 Best Foods for You        1.0\n",
              "...                               ...        ...\n",
              "64222  Housing-Real Estate & Property        1.0\n",
              "64223  Housing-Real Estate & Property        1.0\n",
              "64226  Housing-Real Estate & Property        0.0\n",
              "64227  Housing-Real Estate & Property        1.0\n",
              "64230  Housing-Real Estate & Property        0.0\n",
              "\n",
              "[37427 rows x 2 columns]"
            ],
            "text/html": [
              "\n",
              "  <div id=\"df-4a46322e-8e53-4150-affa-43ea24d67f87\">\n",
              "    <div class=\"colab-df-container\">\n",
              "      <div>\n",
              "<style scoped>\n",
              "    .dataframe tbody tr th:only-of-type {\n",
              "        vertical-align: middle;\n",
              "    }\n",
              "\n",
              "    .dataframe tbody tr th {\n",
              "        vertical-align: top;\n",
              "    }\n",
              "\n",
              "    .dataframe thead th {\n",
              "        text-align: right;\n",
              "    }\n",
              "</style>\n",
              "<table border=\"1\" class=\"dataframe\">\n",
              "  <thead>\n",
              "    <tr style=\"text-align: right;\">\n",
              "      <th></th>\n",
              "      <th>App</th>\n",
              "      <th>Sentiment</th>\n",
              "    </tr>\n",
              "  </thead>\n",
              "  <tbody>\n",
              "    <tr>\n",
              "      <th>0</th>\n",
              "      <td>10 Best Foods for You</td>\n",
              "      <td>1.0</td>\n",
              "    </tr>\n",
              "    <tr>\n",
              "      <th>1</th>\n",
              "      <td>10 Best Foods for You</td>\n",
              "      <td>1.0</td>\n",
              "    </tr>\n",
              "    <tr>\n",
              "      <th>3</th>\n",
              "      <td>10 Best Foods for You</td>\n",
              "      <td>1.0</td>\n",
              "    </tr>\n",
              "    <tr>\n",
              "      <th>4</th>\n",
              "      <td>10 Best Foods for You</td>\n",
              "      <td>1.0</td>\n",
              "    </tr>\n",
              "    <tr>\n",
              "      <th>5</th>\n",
              "      <td>10 Best Foods for You</td>\n",
              "      <td>1.0</td>\n",
              "    </tr>\n",
              "    <tr>\n",
              "      <th>...</th>\n",
              "      <td>...</td>\n",
              "      <td>...</td>\n",
              "    </tr>\n",
              "    <tr>\n",
              "      <th>64222</th>\n",
              "      <td>Housing-Real Estate &amp; Property</td>\n",
              "      <td>1.0</td>\n",
              "    </tr>\n",
              "    <tr>\n",
              "      <th>64223</th>\n",
              "      <td>Housing-Real Estate &amp; Property</td>\n",
              "      <td>1.0</td>\n",
              "    </tr>\n",
              "    <tr>\n",
              "      <th>64226</th>\n",
              "      <td>Housing-Real Estate &amp; Property</td>\n",
              "      <td>0.0</td>\n",
              "    </tr>\n",
              "    <tr>\n",
              "      <th>64227</th>\n",
              "      <td>Housing-Real Estate &amp; Property</td>\n",
              "      <td>1.0</td>\n",
              "    </tr>\n",
              "    <tr>\n",
              "      <th>64230</th>\n",
              "      <td>Housing-Real Estate &amp; Property</td>\n",
              "      <td>0.0</td>\n",
              "    </tr>\n",
              "  </tbody>\n",
              "</table>\n",
              "<p>37427 rows × 2 columns</p>\n",
              "</div>\n",
              "      <button class=\"colab-df-convert\" onclick=\"convertToInteractive('df-4a46322e-8e53-4150-affa-43ea24d67f87')\"\n",
              "              title=\"Convert this dataframe to an interactive table.\"\n",
              "              style=\"display:none;\">\n",
              "        \n",
              "  <svg xmlns=\"http://www.w3.org/2000/svg\" height=\"24px\"viewBox=\"0 0 24 24\"\n",
              "       width=\"24px\">\n",
              "    <path d=\"M0 0h24v24H0V0z\" fill=\"none\"/>\n",
              "    <path d=\"M18.56 5.44l.94 2.06.94-2.06 2.06-.94-2.06-.94-.94-2.06-.94 2.06-2.06.94zm-11 1L8.5 8.5l.94-2.06 2.06-.94-2.06-.94L8.5 2.5l-.94 2.06-2.06.94zm10 10l.94 2.06.94-2.06 2.06-.94-2.06-.94-.94-2.06-.94 2.06-2.06.94z\"/><path d=\"M17.41 7.96l-1.37-1.37c-.4-.4-.92-.59-1.43-.59-.52 0-1.04.2-1.43.59L10.3 9.45l-7.72 7.72c-.78.78-.78 2.05 0 2.83L4 21.41c.39.39.9.59 1.41.59.51 0 1.02-.2 1.41-.59l7.78-7.78 2.81-2.81c.8-.78.8-2.07 0-2.86zM5.41 20L4 18.59l7.72-7.72 1.47 1.35L5.41 20z\"/>\n",
              "  </svg>\n",
              "      </button>\n",
              "      \n",
              "  <style>\n",
              "    .colab-df-container {\n",
              "      display:flex;\n",
              "      flex-wrap:wrap;\n",
              "      gap: 12px;\n",
              "    }\n",
              "\n",
              "    .colab-df-convert {\n",
              "      background-color: #E8F0FE;\n",
              "      border: none;\n",
              "      border-radius: 50%;\n",
              "      cursor: pointer;\n",
              "      display: none;\n",
              "      fill: #1967D2;\n",
              "      height: 32px;\n",
              "      padding: 0 0 0 0;\n",
              "      width: 32px;\n",
              "    }\n",
              "\n",
              "    .colab-df-convert:hover {\n",
              "      background-color: #E2EBFA;\n",
              "      box-shadow: 0px 1px 2px rgba(60, 64, 67, 0.3), 0px 1px 3px 1px rgba(60, 64, 67, 0.15);\n",
              "      fill: #174EA6;\n",
              "    }\n",
              "\n",
              "    [theme=dark] .colab-df-convert {\n",
              "      background-color: #3B4455;\n",
              "      fill: #D2E3FC;\n",
              "    }\n",
              "\n",
              "    [theme=dark] .colab-df-convert:hover {\n",
              "      background-color: #434B5C;\n",
              "      box-shadow: 0px 1px 3px 1px rgba(0, 0, 0, 0.15);\n",
              "      filter: drop-shadow(0px 1px 2px rgba(0, 0, 0, 0.3));\n",
              "      fill: #FFFFFF;\n",
              "    }\n",
              "  </style>\n",
              "\n",
              "      <script>\n",
              "        const buttonEl =\n",
              "          document.querySelector('#df-4a46322e-8e53-4150-affa-43ea24d67f87 button.colab-df-convert');\n",
              "        buttonEl.style.display =\n",
              "          google.colab.kernel.accessAllowed ? 'block' : 'none';\n",
              "\n",
              "        async function convertToInteractive(key) {\n",
              "          const element = document.querySelector('#df-4a46322e-8e53-4150-affa-43ea24d67f87');\n",
              "          const dataTable =\n",
              "            await google.colab.kernel.invokeFunction('convertToInteractive',\n",
              "                                                     [key], {});\n",
              "          if (!dataTable) return;\n",
              "\n",
              "          const docLinkHtml = 'Like what you see? Visit the ' +\n",
              "            '<a target=\"_blank\" href=https://colab.research.google.com/notebooks/data_table.ipynb>data table notebook</a>'\n",
              "            + ' to learn more about interactive tables.';\n",
              "          element.innerHTML = '';\n",
              "          dataTable['output_type'] = 'display_data';\n",
              "          await google.colab.output.renderOutput(dataTable, element);\n",
              "          const docLink = document.createElement('div');\n",
              "          docLink.innerHTML = docLinkHtml;\n",
              "          element.appendChild(docLink);\n",
              "        }\n",
              "      </script>\n",
              "    </div>\n",
              "  </div>\n",
              "  "
            ]
          },
          "metadata": {},
          "execution_count": 53
        }
      ]
    },
    {
      "cell_type": "code",
      "source": [
        "df_total_count=pd.DataFrame(sentiment_df.groupby(['App']).size().reset_index(name='count'))\n",
        "\n",
        "#select thoes values which have count greater than 180\n",
        "df_total_count=df_total_count[df_total_count['count']>180]\n",
        "df_total_count"
      ],
      "metadata": {
        "colab": {
          "base_uri": "https://localhost:8080/",
          "height": 426
        },
        "id": "S9kwfkrCcx4Z",
        "outputId": "f5d7b335-69b2-4845-abef-4f462492908a"
      },
      "execution_count": null,
      "outputs": [
        {
          "output_type": "execute_result",
          "data": {
            "text/plain": [
              "                                                   App  count\n",
              "0                                10 Best Foods for You    194\n",
              "22                                         8 Ball Pool    219\n",
              "114                                Angry Birds Classic    273\n",
              "256                                         Bowmasters    312\n",
              "294  CBS Sports App - Scores, News, Stats & Watch Live    192\n",
              "327                           Calorie Counter - Macros    200\n",
              "328                     Calorie Counter - MyFitnessPal    254\n",
              "334                                   Candy Crush Saga    240\n",
              "510                     Duolingo: Learn Languages Free    240\n",
              "718                                   Garena Free Fire    222\n",
              "754                                      Google Photos    191\n",
              "817                                         Helix Jump    273"
            ],
            "text/html": [
              "\n",
              "  <div id=\"df-04282bd0-627e-4398-b04e-898d5b30b73a\">\n",
              "    <div class=\"colab-df-container\">\n",
              "      <div>\n",
              "<style scoped>\n",
              "    .dataframe tbody tr th:only-of-type {\n",
              "        vertical-align: middle;\n",
              "    }\n",
              "\n",
              "    .dataframe tbody tr th {\n",
              "        vertical-align: top;\n",
              "    }\n",
              "\n",
              "    .dataframe thead th {\n",
              "        text-align: right;\n",
              "    }\n",
              "</style>\n",
              "<table border=\"1\" class=\"dataframe\">\n",
              "  <thead>\n",
              "    <tr style=\"text-align: right;\">\n",
              "      <th></th>\n",
              "      <th>App</th>\n",
              "      <th>count</th>\n",
              "    </tr>\n",
              "  </thead>\n",
              "  <tbody>\n",
              "    <tr>\n",
              "      <th>0</th>\n",
              "      <td>10 Best Foods for You</td>\n",
              "      <td>194</td>\n",
              "    </tr>\n",
              "    <tr>\n",
              "      <th>22</th>\n",
              "      <td>8 Ball Pool</td>\n",
              "      <td>219</td>\n",
              "    </tr>\n",
              "    <tr>\n",
              "      <th>114</th>\n",
              "      <td>Angry Birds Classic</td>\n",
              "      <td>273</td>\n",
              "    </tr>\n",
              "    <tr>\n",
              "      <th>256</th>\n",
              "      <td>Bowmasters</td>\n",
              "      <td>312</td>\n",
              "    </tr>\n",
              "    <tr>\n",
              "      <th>294</th>\n",
              "      <td>CBS Sports App - Scores, News, Stats &amp; Watch Live</td>\n",
              "      <td>192</td>\n",
              "    </tr>\n",
              "    <tr>\n",
              "      <th>327</th>\n",
              "      <td>Calorie Counter - Macros</td>\n",
              "      <td>200</td>\n",
              "    </tr>\n",
              "    <tr>\n",
              "      <th>328</th>\n",
              "      <td>Calorie Counter - MyFitnessPal</td>\n",
              "      <td>254</td>\n",
              "    </tr>\n",
              "    <tr>\n",
              "      <th>334</th>\n",
              "      <td>Candy Crush Saga</td>\n",
              "      <td>240</td>\n",
              "    </tr>\n",
              "    <tr>\n",
              "      <th>510</th>\n",
              "      <td>Duolingo: Learn Languages Free</td>\n",
              "      <td>240</td>\n",
              "    </tr>\n",
              "    <tr>\n",
              "      <th>718</th>\n",
              "      <td>Garena Free Fire</td>\n",
              "      <td>222</td>\n",
              "    </tr>\n",
              "    <tr>\n",
              "      <th>754</th>\n",
              "      <td>Google Photos</td>\n",
              "      <td>191</td>\n",
              "    </tr>\n",
              "    <tr>\n",
              "      <th>817</th>\n",
              "      <td>Helix Jump</td>\n",
              "      <td>273</td>\n",
              "    </tr>\n",
              "  </tbody>\n",
              "</table>\n",
              "</div>\n",
              "      <button class=\"colab-df-convert\" onclick=\"convertToInteractive('df-04282bd0-627e-4398-b04e-898d5b30b73a')\"\n",
              "              title=\"Convert this dataframe to an interactive table.\"\n",
              "              style=\"display:none;\">\n",
              "        \n",
              "  <svg xmlns=\"http://www.w3.org/2000/svg\" height=\"24px\"viewBox=\"0 0 24 24\"\n",
              "       width=\"24px\">\n",
              "    <path d=\"M0 0h24v24H0V0z\" fill=\"none\"/>\n",
              "    <path d=\"M18.56 5.44l.94 2.06.94-2.06 2.06-.94-2.06-.94-.94-2.06-.94 2.06-2.06.94zm-11 1L8.5 8.5l.94-2.06 2.06-.94-2.06-.94L8.5 2.5l-.94 2.06-2.06.94zm10 10l.94 2.06.94-2.06 2.06-.94-2.06-.94-.94-2.06-.94 2.06-2.06.94z\"/><path d=\"M17.41 7.96l-1.37-1.37c-.4-.4-.92-.59-1.43-.59-.52 0-1.04.2-1.43.59L10.3 9.45l-7.72 7.72c-.78.78-.78 2.05 0 2.83L4 21.41c.39.39.9.59 1.41.59.51 0 1.02-.2 1.41-.59l7.78-7.78 2.81-2.81c.8-.78.8-2.07 0-2.86zM5.41 20L4 18.59l7.72-7.72 1.47 1.35L5.41 20z\"/>\n",
              "  </svg>\n",
              "      </button>\n",
              "      \n",
              "  <style>\n",
              "    .colab-df-container {\n",
              "      display:flex;\n",
              "      flex-wrap:wrap;\n",
              "      gap: 12px;\n",
              "    }\n",
              "\n",
              "    .colab-df-convert {\n",
              "      background-color: #E8F0FE;\n",
              "      border: none;\n",
              "      border-radius: 50%;\n",
              "      cursor: pointer;\n",
              "      display: none;\n",
              "      fill: #1967D2;\n",
              "      height: 32px;\n",
              "      padding: 0 0 0 0;\n",
              "      width: 32px;\n",
              "    }\n",
              "\n",
              "    .colab-df-convert:hover {\n",
              "      background-color: #E2EBFA;\n",
              "      box-shadow: 0px 1px 2px rgba(60, 64, 67, 0.3), 0px 1px 3px 1px rgba(60, 64, 67, 0.15);\n",
              "      fill: #174EA6;\n",
              "    }\n",
              "\n",
              "    [theme=dark] .colab-df-convert {\n",
              "      background-color: #3B4455;\n",
              "      fill: #D2E3FC;\n",
              "    }\n",
              "\n",
              "    [theme=dark] .colab-df-convert:hover {\n",
              "      background-color: #434B5C;\n",
              "      box-shadow: 0px 1px 3px 1px rgba(0, 0, 0, 0.15);\n",
              "      filter: drop-shadow(0px 1px 2px rgba(0, 0, 0, 0.3));\n",
              "      fill: #FFFFFF;\n",
              "    }\n",
              "  </style>\n",
              "\n",
              "      <script>\n",
              "        const buttonEl =\n",
              "          document.querySelector('#df-04282bd0-627e-4398-b04e-898d5b30b73a button.colab-df-convert');\n",
              "        buttonEl.style.display =\n",
              "          google.colab.kernel.accessAllowed ? 'block' : 'none';\n",
              "\n",
              "        async function convertToInteractive(key) {\n",
              "          const element = document.querySelector('#df-04282bd0-627e-4398-b04e-898d5b30b73a');\n",
              "          const dataTable =\n",
              "            await google.colab.kernel.invokeFunction('convertToInteractive',\n",
              "                                                     [key], {});\n",
              "          if (!dataTable) return;\n",
              "\n",
              "          const docLinkHtml = 'Like what you see? Visit the ' +\n",
              "            '<a target=\"_blank\" href=https://colab.research.google.com/notebooks/data_table.ipynb>data table notebook</a>'\n",
              "            + ' to learn more about interactive tables.';\n",
              "          element.innerHTML = '';\n",
              "          dataTable['output_type'] = 'display_data';\n",
              "          await google.colab.output.renderOutput(dataTable, element);\n",
              "          const docLink = document.createElement('div');\n",
              "          docLink.innerHTML = docLinkHtml;\n",
              "          element.appendChild(docLink);\n",
              "        }\n",
              "      </script>\n",
              "    </div>\n",
              "  </div>\n",
              "  "
            ]
          },
          "metadata": {},
          "execution_count": 54
        }
      ]
    },
    {
      "cell_type": "code",
      "source": [
        "#count each sentiment count for each application name\n",
        "sent_df=pd.DataFrame(sentiment_df.groupby(['App','Sentiment']).size().reset_index(name='count'))\n",
        "sent_df"
      ],
      "metadata": {
        "colab": {
          "base_uri": "https://localhost:8080/",
          "height": 424
        },
        "id": "FnYWCch3dK-y",
        "outputId": "3a9107ac-d6b3-47e2-b9c6-a3e98b502398"
      },
      "execution_count": null,
      "outputs": [
        {
          "output_type": "execute_result",
          "data": {
            "text/plain": [
              "                                   App  Sentiment  count\n",
              "0                10 Best Foods for You        0.0     10\n",
              "1                10 Best Foods for You        1.0    162\n",
              "2                10 Best Foods for You        2.0     22\n",
              "3     104 找工作 - 找工作 找打工 找兼職 履歷健檢 履歷診療室        0.0      1\n",
              "4     104 找工作 - 找工作 找打工 找兼職 履歷健檢 履歷診療室        1.0     31\n",
              "...                                ...        ...    ...\n",
              "2371    Hotwire Hotel & Car Rental App        1.0     16\n",
              "2372    Hotwire Hotel & Car Rental App        2.0     11\n",
              "2373    Housing-Real Estate & Property        0.0     10\n",
              "2374    Housing-Real Estate & Property        1.0      8\n",
              "2375    Housing-Real Estate & Property        2.0      3\n",
              "\n",
              "[2376 rows x 3 columns]"
            ],
            "text/html": [
              "\n",
              "  <div id=\"df-3531503a-8c2b-46a9-bb00-9c2d2f4502b4\">\n",
              "    <div class=\"colab-df-container\">\n",
              "      <div>\n",
              "<style scoped>\n",
              "    .dataframe tbody tr th:only-of-type {\n",
              "        vertical-align: middle;\n",
              "    }\n",
              "\n",
              "    .dataframe tbody tr th {\n",
              "        vertical-align: top;\n",
              "    }\n",
              "\n",
              "    .dataframe thead th {\n",
              "        text-align: right;\n",
              "    }\n",
              "</style>\n",
              "<table border=\"1\" class=\"dataframe\">\n",
              "  <thead>\n",
              "    <tr style=\"text-align: right;\">\n",
              "      <th></th>\n",
              "      <th>App</th>\n",
              "      <th>Sentiment</th>\n",
              "      <th>count</th>\n",
              "    </tr>\n",
              "  </thead>\n",
              "  <tbody>\n",
              "    <tr>\n",
              "      <th>0</th>\n",
              "      <td>10 Best Foods for You</td>\n",
              "      <td>0.0</td>\n",
              "      <td>10</td>\n",
              "    </tr>\n",
              "    <tr>\n",
              "      <th>1</th>\n",
              "      <td>10 Best Foods for You</td>\n",
              "      <td>1.0</td>\n",
              "      <td>162</td>\n",
              "    </tr>\n",
              "    <tr>\n",
              "      <th>2</th>\n",
              "      <td>10 Best Foods for You</td>\n",
              "      <td>2.0</td>\n",
              "      <td>22</td>\n",
              "    </tr>\n",
              "    <tr>\n",
              "      <th>3</th>\n",
              "      <td>104 找工作 - 找工作 找打工 找兼職 履歷健檢 履歷診療室</td>\n",
              "      <td>0.0</td>\n",
              "      <td>1</td>\n",
              "    </tr>\n",
              "    <tr>\n",
              "      <th>4</th>\n",
              "      <td>104 找工作 - 找工作 找打工 找兼職 履歷健檢 履歷診療室</td>\n",
              "      <td>1.0</td>\n",
              "      <td>31</td>\n",
              "    </tr>\n",
              "    <tr>\n",
              "      <th>...</th>\n",
              "      <td>...</td>\n",
              "      <td>...</td>\n",
              "      <td>...</td>\n",
              "    </tr>\n",
              "    <tr>\n",
              "      <th>2371</th>\n",
              "      <td>Hotwire Hotel &amp; Car Rental App</td>\n",
              "      <td>1.0</td>\n",
              "      <td>16</td>\n",
              "    </tr>\n",
              "    <tr>\n",
              "      <th>2372</th>\n",
              "      <td>Hotwire Hotel &amp; Car Rental App</td>\n",
              "      <td>2.0</td>\n",
              "      <td>11</td>\n",
              "    </tr>\n",
              "    <tr>\n",
              "      <th>2373</th>\n",
              "      <td>Housing-Real Estate &amp; Property</td>\n",
              "      <td>0.0</td>\n",
              "      <td>10</td>\n",
              "    </tr>\n",
              "    <tr>\n",
              "      <th>2374</th>\n",
              "      <td>Housing-Real Estate &amp; Property</td>\n",
              "      <td>1.0</td>\n",
              "      <td>8</td>\n",
              "    </tr>\n",
              "    <tr>\n",
              "      <th>2375</th>\n",
              "      <td>Housing-Real Estate &amp; Property</td>\n",
              "      <td>2.0</td>\n",
              "      <td>3</td>\n",
              "    </tr>\n",
              "  </tbody>\n",
              "</table>\n",
              "<p>2376 rows × 3 columns</p>\n",
              "</div>\n",
              "      <button class=\"colab-df-convert\" onclick=\"convertToInteractive('df-3531503a-8c2b-46a9-bb00-9c2d2f4502b4')\"\n",
              "              title=\"Convert this dataframe to an interactive table.\"\n",
              "              style=\"display:none;\">\n",
              "        \n",
              "  <svg xmlns=\"http://www.w3.org/2000/svg\" height=\"24px\"viewBox=\"0 0 24 24\"\n",
              "       width=\"24px\">\n",
              "    <path d=\"M0 0h24v24H0V0z\" fill=\"none\"/>\n",
              "    <path d=\"M18.56 5.44l.94 2.06.94-2.06 2.06-.94-2.06-.94-.94-2.06-.94 2.06-2.06.94zm-11 1L8.5 8.5l.94-2.06 2.06-.94-2.06-.94L8.5 2.5l-.94 2.06-2.06.94zm10 10l.94 2.06.94-2.06 2.06-.94-2.06-.94-.94-2.06-.94 2.06-2.06.94z\"/><path d=\"M17.41 7.96l-1.37-1.37c-.4-.4-.92-.59-1.43-.59-.52 0-1.04.2-1.43.59L10.3 9.45l-7.72 7.72c-.78.78-.78 2.05 0 2.83L4 21.41c.39.39.9.59 1.41.59.51 0 1.02-.2 1.41-.59l7.78-7.78 2.81-2.81c.8-.78.8-2.07 0-2.86zM5.41 20L4 18.59l7.72-7.72 1.47 1.35L5.41 20z\"/>\n",
              "  </svg>\n",
              "      </button>\n",
              "      \n",
              "  <style>\n",
              "    .colab-df-container {\n",
              "      display:flex;\n",
              "      flex-wrap:wrap;\n",
              "      gap: 12px;\n",
              "    }\n",
              "\n",
              "    .colab-df-convert {\n",
              "      background-color: #E8F0FE;\n",
              "      border: none;\n",
              "      border-radius: 50%;\n",
              "      cursor: pointer;\n",
              "      display: none;\n",
              "      fill: #1967D2;\n",
              "      height: 32px;\n",
              "      padding: 0 0 0 0;\n",
              "      width: 32px;\n",
              "    }\n",
              "\n",
              "    .colab-df-convert:hover {\n",
              "      background-color: #E2EBFA;\n",
              "      box-shadow: 0px 1px 2px rgba(60, 64, 67, 0.3), 0px 1px 3px 1px rgba(60, 64, 67, 0.15);\n",
              "      fill: #174EA6;\n",
              "    }\n",
              "\n",
              "    [theme=dark] .colab-df-convert {\n",
              "      background-color: #3B4455;\n",
              "      fill: #D2E3FC;\n",
              "    }\n",
              "\n",
              "    [theme=dark] .colab-df-convert:hover {\n",
              "      background-color: #434B5C;\n",
              "      box-shadow: 0px 1px 3px 1px rgba(0, 0, 0, 0.15);\n",
              "      filter: drop-shadow(0px 1px 2px rgba(0, 0, 0, 0.3));\n",
              "      fill: #FFFFFF;\n",
              "    }\n",
              "  </style>\n",
              "\n",
              "      <script>\n",
              "        const buttonEl =\n",
              "          document.querySelector('#df-3531503a-8c2b-46a9-bb00-9c2d2f4502b4 button.colab-df-convert');\n",
              "        buttonEl.style.display =\n",
              "          google.colab.kernel.accessAllowed ? 'block' : 'none';\n",
              "\n",
              "        async function convertToInteractive(key) {\n",
              "          const element = document.querySelector('#df-3531503a-8c2b-46a9-bb00-9c2d2f4502b4');\n",
              "          const dataTable =\n",
              "            await google.colab.kernel.invokeFunction('convertToInteractive',\n",
              "                                                     [key], {});\n",
              "          if (!dataTable) return;\n",
              "\n",
              "          const docLinkHtml = 'Like what you see? Visit the ' +\n",
              "            '<a target=\"_blank\" href=https://colab.research.google.com/notebooks/data_table.ipynb>data table notebook</a>'\n",
              "            + ' to learn more about interactive tables.';\n",
              "          element.innerHTML = '';\n",
              "          dataTable['output_type'] = 'display_data';\n",
              "          await google.colab.output.renderOutput(dataTable, element);\n",
              "          const docLink = document.createElement('div');\n",
              "          docLink.innerHTML = docLinkHtml;\n",
              "          element.appendChild(docLink);\n",
              "        }\n",
              "      </script>\n",
              "    </div>\n",
              "  </div>\n",
              "  "
            ]
          },
          "metadata": {},
          "execution_count": 55
        }
      ]
    },
    {
      "cell_type": "code",
      "source": [
        "#Select values whoes sentiment is \"1\" i. e. positive\n",
        "pos_sen_df=sent_df[sent_df['Sentiment']==1]\n",
        "pos_sen_df"
      ],
      "metadata": {
        "colab": {
          "base_uri": "https://localhost:8080/",
          "height": 424
        },
        "id": "n2MIHIundTvo",
        "outputId": "b6d0fb0c-7db1-4147-8aa3-f901e7407e1a"
      },
      "execution_count": null,
      "outputs": [
        {
          "output_type": "execute_result",
          "data": {
            "text/plain": [
              "                                                    App  Sentiment  count\n",
              "1                                 10 Best Foods for You        1.0    162\n",
              "4                      104 找工作 - 找工作 找打工 找兼職 履歷健檢 履歷診療室        1.0     31\n",
              "7                                                  11st        1.0     23\n",
              "10                           1800 Contacts - Lens Store        1.0     64\n",
              "13                      1LINE – One Line with One Touch        1.0     27\n",
              "...                                                 ...        ...    ...\n",
              "2362  Hotels.com: Book Hotel Rooms & Find Vacation D...        1.0     39\n",
              "2365     Hotspot Shield Free VPN Proxy & Wi-Fi Security        1.0     17\n",
              "2368                                            Hotstar        1.0     14\n",
              "2371                     Hotwire Hotel & Car Rental App        1.0     16\n",
              "2374                     Housing-Real Estate & Property        1.0      8\n",
              "\n",
              "[853 rows x 3 columns]"
            ],
            "text/html": [
              "\n",
              "  <div id=\"df-7bd7aa9b-a1e1-4902-bb6f-b4786382fa0e\">\n",
              "    <div class=\"colab-df-container\">\n",
              "      <div>\n",
              "<style scoped>\n",
              "    .dataframe tbody tr th:only-of-type {\n",
              "        vertical-align: middle;\n",
              "    }\n",
              "\n",
              "    .dataframe tbody tr th {\n",
              "        vertical-align: top;\n",
              "    }\n",
              "\n",
              "    .dataframe thead th {\n",
              "        text-align: right;\n",
              "    }\n",
              "</style>\n",
              "<table border=\"1\" class=\"dataframe\">\n",
              "  <thead>\n",
              "    <tr style=\"text-align: right;\">\n",
              "      <th></th>\n",
              "      <th>App</th>\n",
              "      <th>Sentiment</th>\n",
              "      <th>count</th>\n",
              "    </tr>\n",
              "  </thead>\n",
              "  <tbody>\n",
              "    <tr>\n",
              "      <th>1</th>\n",
              "      <td>10 Best Foods for You</td>\n",
              "      <td>1.0</td>\n",
              "      <td>162</td>\n",
              "    </tr>\n",
              "    <tr>\n",
              "      <th>4</th>\n",
              "      <td>104 找工作 - 找工作 找打工 找兼職 履歷健檢 履歷診療室</td>\n",
              "      <td>1.0</td>\n",
              "      <td>31</td>\n",
              "    </tr>\n",
              "    <tr>\n",
              "      <th>7</th>\n",
              "      <td>11st</td>\n",
              "      <td>1.0</td>\n",
              "      <td>23</td>\n",
              "    </tr>\n",
              "    <tr>\n",
              "      <th>10</th>\n",
              "      <td>1800 Contacts - Lens Store</td>\n",
              "      <td>1.0</td>\n",
              "      <td>64</td>\n",
              "    </tr>\n",
              "    <tr>\n",
              "      <th>13</th>\n",
              "      <td>1LINE – One Line with One Touch</td>\n",
              "      <td>1.0</td>\n",
              "      <td>27</td>\n",
              "    </tr>\n",
              "    <tr>\n",
              "      <th>...</th>\n",
              "      <td>...</td>\n",
              "      <td>...</td>\n",
              "      <td>...</td>\n",
              "    </tr>\n",
              "    <tr>\n",
              "      <th>2362</th>\n",
              "      <td>Hotels.com: Book Hotel Rooms &amp; Find Vacation D...</td>\n",
              "      <td>1.0</td>\n",
              "      <td>39</td>\n",
              "    </tr>\n",
              "    <tr>\n",
              "      <th>2365</th>\n",
              "      <td>Hotspot Shield Free VPN Proxy &amp; Wi-Fi Security</td>\n",
              "      <td>1.0</td>\n",
              "      <td>17</td>\n",
              "    </tr>\n",
              "    <tr>\n",
              "      <th>2368</th>\n",
              "      <td>Hotstar</td>\n",
              "      <td>1.0</td>\n",
              "      <td>14</td>\n",
              "    </tr>\n",
              "    <tr>\n",
              "      <th>2371</th>\n",
              "      <td>Hotwire Hotel &amp; Car Rental App</td>\n",
              "      <td>1.0</td>\n",
              "      <td>16</td>\n",
              "    </tr>\n",
              "    <tr>\n",
              "      <th>2374</th>\n",
              "      <td>Housing-Real Estate &amp; Property</td>\n",
              "      <td>1.0</td>\n",
              "      <td>8</td>\n",
              "    </tr>\n",
              "  </tbody>\n",
              "</table>\n",
              "<p>853 rows × 3 columns</p>\n",
              "</div>\n",
              "      <button class=\"colab-df-convert\" onclick=\"convertToInteractive('df-7bd7aa9b-a1e1-4902-bb6f-b4786382fa0e')\"\n",
              "              title=\"Convert this dataframe to an interactive table.\"\n",
              "              style=\"display:none;\">\n",
              "        \n",
              "  <svg xmlns=\"http://www.w3.org/2000/svg\" height=\"24px\"viewBox=\"0 0 24 24\"\n",
              "       width=\"24px\">\n",
              "    <path d=\"M0 0h24v24H0V0z\" fill=\"none\"/>\n",
              "    <path d=\"M18.56 5.44l.94 2.06.94-2.06 2.06-.94-2.06-.94-.94-2.06-.94 2.06-2.06.94zm-11 1L8.5 8.5l.94-2.06 2.06-.94-2.06-.94L8.5 2.5l-.94 2.06-2.06.94zm10 10l.94 2.06.94-2.06 2.06-.94-2.06-.94-.94-2.06-.94 2.06-2.06.94z\"/><path d=\"M17.41 7.96l-1.37-1.37c-.4-.4-.92-.59-1.43-.59-.52 0-1.04.2-1.43.59L10.3 9.45l-7.72 7.72c-.78.78-.78 2.05 0 2.83L4 21.41c.39.39.9.59 1.41.59.51 0 1.02-.2 1.41-.59l7.78-7.78 2.81-2.81c.8-.78.8-2.07 0-2.86zM5.41 20L4 18.59l7.72-7.72 1.47 1.35L5.41 20z\"/>\n",
              "  </svg>\n",
              "      </button>\n",
              "      \n",
              "  <style>\n",
              "    .colab-df-container {\n",
              "      display:flex;\n",
              "      flex-wrap:wrap;\n",
              "      gap: 12px;\n",
              "    }\n",
              "\n",
              "    .colab-df-convert {\n",
              "      background-color: #E8F0FE;\n",
              "      border: none;\n",
              "      border-radius: 50%;\n",
              "      cursor: pointer;\n",
              "      display: none;\n",
              "      fill: #1967D2;\n",
              "      height: 32px;\n",
              "      padding: 0 0 0 0;\n",
              "      width: 32px;\n",
              "    }\n",
              "\n",
              "    .colab-df-convert:hover {\n",
              "      background-color: #E2EBFA;\n",
              "      box-shadow: 0px 1px 2px rgba(60, 64, 67, 0.3), 0px 1px 3px 1px rgba(60, 64, 67, 0.15);\n",
              "      fill: #174EA6;\n",
              "    }\n",
              "\n",
              "    [theme=dark] .colab-df-convert {\n",
              "      background-color: #3B4455;\n",
              "      fill: #D2E3FC;\n",
              "    }\n",
              "\n",
              "    [theme=dark] .colab-df-convert:hover {\n",
              "      background-color: #434B5C;\n",
              "      box-shadow: 0px 1px 3px 1px rgba(0, 0, 0, 0.15);\n",
              "      filter: drop-shadow(0px 1px 2px rgba(0, 0, 0, 0.3));\n",
              "      fill: #FFFFFF;\n",
              "    }\n",
              "  </style>\n",
              "\n",
              "      <script>\n",
              "        const buttonEl =\n",
              "          document.querySelector('#df-7bd7aa9b-a1e1-4902-bb6f-b4786382fa0e button.colab-df-convert');\n",
              "        buttonEl.style.display =\n",
              "          google.colab.kernel.accessAllowed ? 'block' : 'none';\n",
              "\n",
              "        async function convertToInteractive(key) {\n",
              "          const element = document.querySelector('#df-7bd7aa9b-a1e1-4902-bb6f-b4786382fa0e');\n",
              "          const dataTable =\n",
              "            await google.colab.kernel.invokeFunction('convertToInteractive',\n",
              "                                                     [key], {});\n",
              "          if (!dataTable) return;\n",
              "\n",
              "          const docLinkHtml = 'Like what you see? Visit the ' +\n",
              "            '<a target=\"_blank\" href=https://colab.research.google.com/notebooks/data_table.ipynb>data table notebook</a>'\n",
              "            + ' to learn more about interactive tables.';\n",
              "          element.innerHTML = '';\n",
              "          dataTable['output_type'] = 'display_data';\n",
              "          await google.colab.output.renderOutput(dataTable, element);\n",
              "          const docLink = document.createElement('div');\n",
              "          docLink.innerHTML = docLinkHtml;\n",
              "          element.appendChild(docLink);\n",
              "        }\n",
              "      </script>\n",
              "    </div>\n",
              "  </div>\n",
              "  "
            ]
          },
          "metadata": {},
          "execution_count": 56
        }
      ]
    },
    {
      "cell_type": "code",
      "source": [
        "#merge df_total_count with pos_sen_df\n",
        "df_merged=df_total_count.merge(pos_sen_df,left_on='App', right_on='App')\n",
        "df_merged"
      ],
      "metadata": {
        "colab": {
          "base_uri": "https://localhost:8080/",
          "height": 426
        },
        "id": "msI7Kwj7dZbF",
        "outputId": "d1e1361a-5cb6-44d5-d77d-5ac92722bd48"
      },
      "execution_count": null,
      "outputs": [
        {
          "output_type": "execute_result",
          "data": {
            "text/plain": [
              "                                                  App  count_x  Sentiment  \\\n",
              "0                               10 Best Foods for You      194        1.0   \n",
              "1                                         8 Ball Pool      219        1.0   \n",
              "2                                 Angry Birds Classic      273        1.0   \n",
              "3                                          Bowmasters      312        1.0   \n",
              "4   CBS Sports App - Scores, News, Stats & Watch Live      192        1.0   \n",
              "5                            Calorie Counter - Macros      200        1.0   \n",
              "6                      Calorie Counter - MyFitnessPal      254        1.0   \n",
              "7                                    Candy Crush Saga      240        1.0   \n",
              "8                      Duolingo: Learn Languages Free      240        1.0   \n",
              "9                                    Garena Free Fire      222        1.0   \n",
              "10                                      Google Photos      191        1.0   \n",
              "11                                         Helix Jump      273        1.0   \n",
              "\n",
              "    count_y  \n",
              "0       162  \n",
              "1       104  \n",
              "2       124  \n",
              "3       169  \n",
              "4       123  \n",
              "5       174  \n",
              "6       169  \n",
              "7       102  \n",
              "8       200  \n",
              "9       136  \n",
              "10      143  \n",
              "11      209  "
            ],
            "text/html": [
              "\n",
              "  <div id=\"df-2ea42665-3366-4455-80a8-0f2c314f0121\">\n",
              "    <div class=\"colab-df-container\">\n",
              "      <div>\n",
              "<style scoped>\n",
              "    .dataframe tbody tr th:only-of-type {\n",
              "        vertical-align: middle;\n",
              "    }\n",
              "\n",
              "    .dataframe tbody tr th {\n",
              "        vertical-align: top;\n",
              "    }\n",
              "\n",
              "    .dataframe thead th {\n",
              "        text-align: right;\n",
              "    }\n",
              "</style>\n",
              "<table border=\"1\" class=\"dataframe\">\n",
              "  <thead>\n",
              "    <tr style=\"text-align: right;\">\n",
              "      <th></th>\n",
              "      <th>App</th>\n",
              "      <th>count_x</th>\n",
              "      <th>Sentiment</th>\n",
              "      <th>count_y</th>\n",
              "    </tr>\n",
              "  </thead>\n",
              "  <tbody>\n",
              "    <tr>\n",
              "      <th>0</th>\n",
              "      <td>10 Best Foods for You</td>\n",
              "      <td>194</td>\n",
              "      <td>1.0</td>\n",
              "      <td>162</td>\n",
              "    </tr>\n",
              "    <tr>\n",
              "      <th>1</th>\n",
              "      <td>8 Ball Pool</td>\n",
              "      <td>219</td>\n",
              "      <td>1.0</td>\n",
              "      <td>104</td>\n",
              "    </tr>\n",
              "    <tr>\n",
              "      <th>2</th>\n",
              "      <td>Angry Birds Classic</td>\n",
              "      <td>273</td>\n",
              "      <td>1.0</td>\n",
              "      <td>124</td>\n",
              "    </tr>\n",
              "    <tr>\n",
              "      <th>3</th>\n",
              "      <td>Bowmasters</td>\n",
              "      <td>312</td>\n",
              "      <td>1.0</td>\n",
              "      <td>169</td>\n",
              "    </tr>\n",
              "    <tr>\n",
              "      <th>4</th>\n",
              "      <td>CBS Sports App - Scores, News, Stats &amp; Watch Live</td>\n",
              "      <td>192</td>\n",
              "      <td>1.0</td>\n",
              "      <td>123</td>\n",
              "    </tr>\n",
              "    <tr>\n",
              "      <th>5</th>\n",
              "      <td>Calorie Counter - Macros</td>\n",
              "      <td>200</td>\n",
              "      <td>1.0</td>\n",
              "      <td>174</td>\n",
              "    </tr>\n",
              "    <tr>\n",
              "      <th>6</th>\n",
              "      <td>Calorie Counter - MyFitnessPal</td>\n",
              "      <td>254</td>\n",
              "      <td>1.0</td>\n",
              "      <td>169</td>\n",
              "    </tr>\n",
              "    <tr>\n",
              "      <th>7</th>\n",
              "      <td>Candy Crush Saga</td>\n",
              "      <td>240</td>\n",
              "      <td>1.0</td>\n",
              "      <td>102</td>\n",
              "    </tr>\n",
              "    <tr>\n",
              "      <th>8</th>\n",
              "      <td>Duolingo: Learn Languages Free</td>\n",
              "      <td>240</td>\n",
              "      <td>1.0</td>\n",
              "      <td>200</td>\n",
              "    </tr>\n",
              "    <tr>\n",
              "      <th>9</th>\n",
              "      <td>Garena Free Fire</td>\n",
              "      <td>222</td>\n",
              "      <td>1.0</td>\n",
              "      <td>136</td>\n",
              "    </tr>\n",
              "    <tr>\n",
              "      <th>10</th>\n",
              "      <td>Google Photos</td>\n",
              "      <td>191</td>\n",
              "      <td>1.0</td>\n",
              "      <td>143</td>\n",
              "    </tr>\n",
              "    <tr>\n",
              "      <th>11</th>\n",
              "      <td>Helix Jump</td>\n",
              "      <td>273</td>\n",
              "      <td>1.0</td>\n",
              "      <td>209</td>\n",
              "    </tr>\n",
              "  </tbody>\n",
              "</table>\n",
              "</div>\n",
              "      <button class=\"colab-df-convert\" onclick=\"convertToInteractive('df-2ea42665-3366-4455-80a8-0f2c314f0121')\"\n",
              "              title=\"Convert this dataframe to an interactive table.\"\n",
              "              style=\"display:none;\">\n",
              "        \n",
              "  <svg xmlns=\"http://www.w3.org/2000/svg\" height=\"24px\"viewBox=\"0 0 24 24\"\n",
              "       width=\"24px\">\n",
              "    <path d=\"M0 0h24v24H0V0z\" fill=\"none\"/>\n",
              "    <path d=\"M18.56 5.44l.94 2.06.94-2.06 2.06-.94-2.06-.94-.94-2.06-.94 2.06-2.06.94zm-11 1L8.5 8.5l.94-2.06 2.06-.94-2.06-.94L8.5 2.5l-.94 2.06-2.06.94zm10 10l.94 2.06.94-2.06 2.06-.94-2.06-.94-.94-2.06-.94 2.06-2.06.94z\"/><path d=\"M17.41 7.96l-1.37-1.37c-.4-.4-.92-.59-1.43-.59-.52 0-1.04.2-1.43.59L10.3 9.45l-7.72 7.72c-.78.78-.78 2.05 0 2.83L4 21.41c.39.39.9.59 1.41.59.51 0 1.02-.2 1.41-.59l7.78-7.78 2.81-2.81c.8-.78.8-2.07 0-2.86zM5.41 20L4 18.59l7.72-7.72 1.47 1.35L5.41 20z\"/>\n",
              "  </svg>\n",
              "      </button>\n",
              "      \n",
              "  <style>\n",
              "    .colab-df-container {\n",
              "      display:flex;\n",
              "      flex-wrap:wrap;\n",
              "      gap: 12px;\n",
              "    }\n",
              "\n",
              "    .colab-df-convert {\n",
              "      background-color: #E8F0FE;\n",
              "      border: none;\n",
              "      border-radius: 50%;\n",
              "      cursor: pointer;\n",
              "      display: none;\n",
              "      fill: #1967D2;\n",
              "      height: 32px;\n",
              "      padding: 0 0 0 0;\n",
              "      width: 32px;\n",
              "    }\n",
              "\n",
              "    .colab-df-convert:hover {\n",
              "      background-color: #E2EBFA;\n",
              "      box-shadow: 0px 1px 2px rgba(60, 64, 67, 0.3), 0px 1px 3px 1px rgba(60, 64, 67, 0.15);\n",
              "      fill: #174EA6;\n",
              "    }\n",
              "\n",
              "    [theme=dark] .colab-df-convert {\n",
              "      background-color: #3B4455;\n",
              "      fill: #D2E3FC;\n",
              "    }\n",
              "\n",
              "    [theme=dark] .colab-df-convert:hover {\n",
              "      background-color: #434B5C;\n",
              "      box-shadow: 0px 1px 3px 1px rgba(0, 0, 0, 0.15);\n",
              "      filter: drop-shadow(0px 1px 2px rgba(0, 0, 0, 0.3));\n",
              "      fill: #FFFFFF;\n",
              "    }\n",
              "  </style>\n",
              "\n",
              "      <script>\n",
              "        const buttonEl =\n",
              "          document.querySelector('#df-2ea42665-3366-4455-80a8-0f2c314f0121 button.colab-df-convert');\n",
              "        buttonEl.style.display =\n",
              "          google.colab.kernel.accessAllowed ? 'block' : 'none';\n",
              "\n",
              "        async function convertToInteractive(key) {\n",
              "          const element = document.querySelector('#df-2ea42665-3366-4455-80a8-0f2c314f0121');\n",
              "          const dataTable =\n",
              "            await google.colab.kernel.invokeFunction('convertToInteractive',\n",
              "                                                     [key], {});\n",
              "          if (!dataTable) return;\n",
              "\n",
              "          const docLinkHtml = 'Like what you see? Visit the ' +\n",
              "            '<a target=\"_blank\" href=https://colab.research.google.com/notebooks/data_table.ipynb>data table notebook</a>'\n",
              "            + ' to learn more about interactive tables.';\n",
              "          element.innerHTML = '';\n",
              "          dataTable['output_type'] = 'display_data';\n",
              "          await google.colab.output.renderOutput(dataTable, element);\n",
              "          const docLink = document.createElement('div');\n",
              "          docLink.innerHTML = docLinkHtml;\n",
              "          element.appendChild(docLink);\n",
              "        }\n",
              "      </script>\n",
              "    </div>\n",
              "  </div>\n",
              "  "
            ]
          },
          "metadata": {},
          "execution_count": 57
        }
      ]
    },
    {
      "cell_type": "code",
      "source": [
        "#calculate percentage of positive sentiments\n",
        "df_merged['positive_sent_%'] =(df_merged['count_y']/df_merged['count_x'])*100\n",
        "df_merged"
      ],
      "metadata": {
        "colab": {
          "base_uri": "https://localhost:8080/",
          "height": 426
        },
        "id": "C4fqQ2ArduB-",
        "outputId": "ca24e0bf-50c6-43f0-9857-0e83be890b27"
      },
      "execution_count": null,
      "outputs": [
        {
          "output_type": "execute_result",
          "data": {
            "text/plain": [
              "                                                  App  count_x  Sentiment  \\\n",
              "0                               10 Best Foods for You      194        1.0   \n",
              "1                                         8 Ball Pool      219        1.0   \n",
              "2                                 Angry Birds Classic      273        1.0   \n",
              "3                                          Bowmasters      312        1.0   \n",
              "4   CBS Sports App - Scores, News, Stats & Watch Live      192        1.0   \n",
              "5                            Calorie Counter - Macros      200        1.0   \n",
              "6                      Calorie Counter - MyFitnessPal      254        1.0   \n",
              "7                                    Candy Crush Saga      240        1.0   \n",
              "8                      Duolingo: Learn Languages Free      240        1.0   \n",
              "9                                    Garena Free Fire      222        1.0   \n",
              "10                                      Google Photos      191        1.0   \n",
              "11                                         Helix Jump      273        1.0   \n",
              "\n",
              "    count_y  positive_sent_%  \n",
              "0       162        83.505155  \n",
              "1       104        47.488584  \n",
              "2       124        45.421245  \n",
              "3       169        54.166667  \n",
              "4       123        64.062500  \n",
              "5       174        87.000000  \n",
              "6       169        66.535433  \n",
              "7       102        42.500000  \n",
              "8       200        83.333333  \n",
              "9       136        61.261261  \n",
              "10      143        74.869110  \n",
              "11      209        76.556777  "
            ],
            "text/html": [
              "\n",
              "  <div id=\"df-d703382b-d306-43a9-845f-44eca6523631\">\n",
              "    <div class=\"colab-df-container\">\n",
              "      <div>\n",
              "<style scoped>\n",
              "    .dataframe tbody tr th:only-of-type {\n",
              "        vertical-align: middle;\n",
              "    }\n",
              "\n",
              "    .dataframe tbody tr th {\n",
              "        vertical-align: top;\n",
              "    }\n",
              "\n",
              "    .dataframe thead th {\n",
              "        text-align: right;\n",
              "    }\n",
              "</style>\n",
              "<table border=\"1\" class=\"dataframe\">\n",
              "  <thead>\n",
              "    <tr style=\"text-align: right;\">\n",
              "      <th></th>\n",
              "      <th>App</th>\n",
              "      <th>count_x</th>\n",
              "      <th>Sentiment</th>\n",
              "      <th>count_y</th>\n",
              "      <th>positive_sent_%</th>\n",
              "    </tr>\n",
              "  </thead>\n",
              "  <tbody>\n",
              "    <tr>\n",
              "      <th>0</th>\n",
              "      <td>10 Best Foods for You</td>\n",
              "      <td>194</td>\n",
              "      <td>1.0</td>\n",
              "      <td>162</td>\n",
              "      <td>83.505155</td>\n",
              "    </tr>\n",
              "    <tr>\n",
              "      <th>1</th>\n",
              "      <td>8 Ball Pool</td>\n",
              "      <td>219</td>\n",
              "      <td>1.0</td>\n",
              "      <td>104</td>\n",
              "      <td>47.488584</td>\n",
              "    </tr>\n",
              "    <tr>\n",
              "      <th>2</th>\n",
              "      <td>Angry Birds Classic</td>\n",
              "      <td>273</td>\n",
              "      <td>1.0</td>\n",
              "      <td>124</td>\n",
              "      <td>45.421245</td>\n",
              "    </tr>\n",
              "    <tr>\n",
              "      <th>3</th>\n",
              "      <td>Bowmasters</td>\n",
              "      <td>312</td>\n",
              "      <td>1.0</td>\n",
              "      <td>169</td>\n",
              "      <td>54.166667</td>\n",
              "    </tr>\n",
              "    <tr>\n",
              "      <th>4</th>\n",
              "      <td>CBS Sports App - Scores, News, Stats &amp; Watch Live</td>\n",
              "      <td>192</td>\n",
              "      <td>1.0</td>\n",
              "      <td>123</td>\n",
              "      <td>64.062500</td>\n",
              "    </tr>\n",
              "    <tr>\n",
              "      <th>5</th>\n",
              "      <td>Calorie Counter - Macros</td>\n",
              "      <td>200</td>\n",
              "      <td>1.0</td>\n",
              "      <td>174</td>\n",
              "      <td>87.000000</td>\n",
              "    </tr>\n",
              "    <tr>\n",
              "      <th>6</th>\n",
              "      <td>Calorie Counter - MyFitnessPal</td>\n",
              "      <td>254</td>\n",
              "      <td>1.0</td>\n",
              "      <td>169</td>\n",
              "      <td>66.535433</td>\n",
              "    </tr>\n",
              "    <tr>\n",
              "      <th>7</th>\n",
              "      <td>Candy Crush Saga</td>\n",
              "      <td>240</td>\n",
              "      <td>1.0</td>\n",
              "      <td>102</td>\n",
              "      <td>42.500000</td>\n",
              "    </tr>\n",
              "    <tr>\n",
              "      <th>8</th>\n",
              "      <td>Duolingo: Learn Languages Free</td>\n",
              "      <td>240</td>\n",
              "      <td>1.0</td>\n",
              "      <td>200</td>\n",
              "      <td>83.333333</td>\n",
              "    </tr>\n",
              "    <tr>\n",
              "      <th>9</th>\n",
              "      <td>Garena Free Fire</td>\n",
              "      <td>222</td>\n",
              "      <td>1.0</td>\n",
              "      <td>136</td>\n",
              "      <td>61.261261</td>\n",
              "    </tr>\n",
              "    <tr>\n",
              "      <th>10</th>\n",
              "      <td>Google Photos</td>\n",
              "      <td>191</td>\n",
              "      <td>1.0</td>\n",
              "      <td>143</td>\n",
              "      <td>74.869110</td>\n",
              "    </tr>\n",
              "    <tr>\n",
              "      <th>11</th>\n",
              "      <td>Helix Jump</td>\n",
              "      <td>273</td>\n",
              "      <td>1.0</td>\n",
              "      <td>209</td>\n",
              "      <td>76.556777</td>\n",
              "    </tr>\n",
              "  </tbody>\n",
              "</table>\n",
              "</div>\n",
              "      <button class=\"colab-df-convert\" onclick=\"convertToInteractive('df-d703382b-d306-43a9-845f-44eca6523631')\"\n",
              "              title=\"Convert this dataframe to an interactive table.\"\n",
              "              style=\"display:none;\">\n",
              "        \n",
              "  <svg xmlns=\"http://www.w3.org/2000/svg\" height=\"24px\"viewBox=\"0 0 24 24\"\n",
              "       width=\"24px\">\n",
              "    <path d=\"M0 0h24v24H0V0z\" fill=\"none\"/>\n",
              "    <path d=\"M18.56 5.44l.94 2.06.94-2.06 2.06-.94-2.06-.94-.94-2.06-.94 2.06-2.06.94zm-11 1L8.5 8.5l.94-2.06 2.06-.94-2.06-.94L8.5 2.5l-.94 2.06-2.06.94zm10 10l.94 2.06.94-2.06 2.06-.94-2.06-.94-.94-2.06-.94 2.06-2.06.94z\"/><path d=\"M17.41 7.96l-1.37-1.37c-.4-.4-.92-.59-1.43-.59-.52 0-1.04.2-1.43.59L10.3 9.45l-7.72 7.72c-.78.78-.78 2.05 0 2.83L4 21.41c.39.39.9.59 1.41.59.51 0 1.02-.2 1.41-.59l7.78-7.78 2.81-2.81c.8-.78.8-2.07 0-2.86zM5.41 20L4 18.59l7.72-7.72 1.47 1.35L5.41 20z\"/>\n",
              "  </svg>\n",
              "      </button>\n",
              "      \n",
              "  <style>\n",
              "    .colab-df-container {\n",
              "      display:flex;\n",
              "      flex-wrap:wrap;\n",
              "      gap: 12px;\n",
              "    }\n",
              "\n",
              "    .colab-df-convert {\n",
              "      background-color: #E8F0FE;\n",
              "      border: none;\n",
              "      border-radius: 50%;\n",
              "      cursor: pointer;\n",
              "      display: none;\n",
              "      fill: #1967D2;\n",
              "      height: 32px;\n",
              "      padding: 0 0 0 0;\n",
              "      width: 32px;\n",
              "    }\n",
              "\n",
              "    .colab-df-convert:hover {\n",
              "      background-color: #E2EBFA;\n",
              "      box-shadow: 0px 1px 2px rgba(60, 64, 67, 0.3), 0px 1px 3px 1px rgba(60, 64, 67, 0.15);\n",
              "      fill: #174EA6;\n",
              "    }\n",
              "\n",
              "    [theme=dark] .colab-df-convert {\n",
              "      background-color: #3B4455;\n",
              "      fill: #D2E3FC;\n",
              "    }\n",
              "\n",
              "    [theme=dark] .colab-df-convert:hover {\n",
              "      background-color: #434B5C;\n",
              "      box-shadow: 0px 1px 3px 1px rgba(0, 0, 0, 0.15);\n",
              "      filter: drop-shadow(0px 1px 2px rgba(0, 0, 0, 0.3));\n",
              "      fill: #FFFFFF;\n",
              "    }\n",
              "  </style>\n",
              "\n",
              "      <script>\n",
              "        const buttonEl =\n",
              "          document.querySelector('#df-d703382b-d306-43a9-845f-44eca6523631 button.colab-df-convert');\n",
              "        buttonEl.style.display =\n",
              "          google.colab.kernel.accessAllowed ? 'block' : 'none';\n",
              "\n",
              "        async function convertToInteractive(key) {\n",
              "          const element = document.querySelector('#df-d703382b-d306-43a9-845f-44eca6523631');\n",
              "          const dataTable =\n",
              "            await google.colab.kernel.invokeFunction('convertToInteractive',\n",
              "                                                     [key], {});\n",
              "          if (!dataTable) return;\n",
              "\n",
              "          const docLinkHtml = 'Like what you see? Visit the ' +\n",
              "            '<a target=\"_blank\" href=https://colab.research.google.com/notebooks/data_table.ipynb>data table notebook</a>'\n",
              "            + ' to learn more about interactive tables.';\n",
              "          element.innerHTML = '';\n",
              "          dataTable['output_type'] = 'display_data';\n",
              "          await google.colab.output.renderOutput(dataTable, element);\n",
              "          const docLink = document.createElement('div');\n",
              "          docLink.innerHTML = docLinkHtml;\n",
              "          element.appendChild(docLink);\n",
              "        }\n",
              "      </script>\n",
              "    </div>\n",
              "  </div>\n",
              "  "
            ]
          },
          "metadata": {},
          "execution_count": 58
        }
      ]
    },
    {
      "cell_type": "code",
      "source": [
        "#plot bar graph\n",
        "plt.figure(figsize = (15,8))\n",
        "ax = sns.barplot(x = 'App', y = 'positive_sent_%',data = df_merged)\n",
        "plt.title(\"App Vs positive sentiment %\")\n",
        "ax.set_xticklabels(ax.get_xticklabels(),rotation ='vertical')"
      ],
      "metadata": {
        "colab": {
          "base_uri": "https://localhost:8080/",
          "height": 965
        },
        "id": "lhUWOfsDd9oA",
        "outputId": "fa42c163-14ef-4398-a1ea-46937fc6dc97"
      },
      "execution_count": null,
      "outputs": [
        {
          "output_type": "execute_result",
          "data": {
            "text/plain": [
              "[Text(0, 0, '10 Best Foods for You'),\n",
              " Text(0, 0, '8 Ball Pool'),\n",
              " Text(0, 0, 'Angry Birds Classic'),\n",
              " Text(0, 0, 'Bowmasters'),\n",
              " Text(0, 0, 'CBS Sports App - Scores, News, Stats & Watch Live'),\n",
              " Text(0, 0, 'Calorie Counter - Macros'),\n",
              " Text(0, 0, 'Calorie Counter - MyFitnessPal'),\n",
              " Text(0, 0, 'Candy Crush Saga'),\n",
              " Text(0, 0, 'Duolingo: Learn Languages Free'),\n",
              " Text(0, 0, 'Garena Free Fire'),\n",
              " Text(0, 0, 'Google Photos'),\n",
              " Text(0, 0, 'Helix Jump')]"
            ]
          },
          "metadata": {},
          "execution_count": 59
        },
        {
          "output_type": "display_data",
          "data": {
            "text/plain": [
              "<Figure size 1080x576 with 1 Axes>"
            ],
            "image/png": "[encoded data removed]"
          },
          "metadata": {
            "needs_background": "light"
          }
        }
      ]
    },
    {
      "cell_type": "markdown",
      "source": [
        "# <font color='red'>**CONCLUSION**\n",
        "\n",
        "1.Imbalanced datasets.\n",
        "\n",
        "2.These two datasets are not normal distribution.\n",
        "\n",
        "3.Both datasets contains numerical(Discrete and Continous) as well as categorical columns.So these columns saperate out.\n",
        "\n",
        "4.Both datasets having no as such correlation of input variables to output variable. \n",
        "\n",
        "5.Dataset number 1 have non linear data.\n",
        "\n",
        "6.Other visualization:\n",
        "\n",
        "  a)On the basis of free and paid applications\n",
        "\n",
        "  free=93%\n",
        "  \n",
        "  paid=7%\n",
        "\n",
        "  b)On the basis of above analysis we can observed that which category is trending on Play Store and the application which have maximum downloads.\n",
        "  \n",
        "  c)Then we find reviews of the application with help of Developers to update their applications and remove problems.\n",
        "\n",
        "  d)Find average rating and seen that most of the application categories have rating near to \"4\"\n",
        "  \n",
        "  e)content rating means generations with which applications can be used,so we found that \"Everyone\" category is widely used.\n",
        "\n",
        "  f)With using \"Sentiment\" column we can find most loved application on playstore by means of their positive reviews count.  "
      ],
      "metadata": {
        "id": "Dh72gwoMu2hn"
      }
    },
    {
      "cell_type": "markdown",
      "source": [
        "![240_F_291522205_XkrmS421FjSGTMRdTrqFZPxDY19VxpmL.jpeg](data:image/jpeg;base64,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)"
      ],
      "metadata": {
        "id": "7owpfLjN0x1-"
      }
    }
  ]
}